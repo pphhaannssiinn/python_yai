{
 "cells": [
  {
   "cell_type": "markdown",
   "id": "3a762887",
   "metadata": {},
   "source": [
    "# Modules\n",
    "\n",
    "โมดูล (Module) คือไฟล์หรือส่วนของโปรแกรมที่ใช้สำหรับกำหนดตัวแปร ฟังก์ชัน หรือคลาสโดยแบ่งย่อยอีกหน่วยหนึ่งจากโปรแกรมหลัก และในโมดูลยังสามารถประกอบไปด้วยคำสั่งประมวลผลการทำงานได้ \n",
    "\n",
    "ยกตัวอย่างเช่น เมื่อเขียนโปรแกรมที่อาจจะมีฟังก์ชันสำหรับทำงานและจัดการกับตัวเลขเป็นจำนวนมาก และในขณะเดียวกันไม่ต้องการให้โปรแกรมหลักนั้นมีขนาดใหญ่เกินไป นั่นหมายความว่าสามารถนำฟังก์ชันเหล่านี้มาสร้างเป็นโมดูล และในการใช้งานนั้นจะต้องนำเข้ามาในโปรแกรมโดยวิธีที่เรียกว่า Import\n",
    "\n",
    "<img src=http://marcuscode.com/media/75/marcuscode_dFj1l9de_1000.jpg width=\"300\"/>\n",
    "\n",
    "ในภาษา Python โมดูลที่ถูกสร้างขึ้นมานั้นจะเป็นไฟล์ในรูปแบบ module_name.py นอกจากนี้ Python ยังมี Built-in module เป็นจำนวนมาก เช่น math เป็นโมดูลเกี่ยวกับฟังก์ชันทางคณิตศาสตร์ หรือ random เป็นโมดูลเพื่อจัดการและสุ่มตัวเลข เป็นต้น"
   ]
  },
  {
   "cell_type": "markdown",
   "id": "f71f682a",
   "metadata": {},
   "source": [
    "## การสร้างโมดูลในภาษา Python\n",
    "\n",
    "การสร้างโมดูลในภาษา Python คุณต้องนำโค้ดของโปรแกรม โดยทั่วไปแล้วจะประกอบไปด้วย ตัวแปร ฟังก์ชัน หรือคลาส ไปรวมไว้ในไฟล์ใหม่ที่ไม่ใช้ไฟล์หลักของโปรแกรม ในรูปแบบ module_name.py  \n",
    "\n",
    "โดยที่ module_name นั้นเป็นชื่อของโมดูลเพื่อนำไปใช้งานในการเขียนโปรแกรม"
   ]
  },
  {
   "cell_type": "code",
   "execution_count": null,
   "id": "a73b3ad0",
   "metadata": {},
   "outputs": [],
   "source": [
    "def factorial(n):   # return factorial value of n\n",
    "    if n == 0 or n == 1:\n",
    "        return 1\n",
    "    else:\n",
    "        return n * factorial(n - 1)\n",
    "\n",
    "def fibonacci(n):   # return Fibonacci series up to n\n",
    "    result = []\n",
    "    a, b = 0, 1\n",
    "    while b < n:\n",
    "        result.append(b)\n",
    "        a, b = b, a + b\n",
    "    return result"
   ]
  },
  {
   "cell_type": "markdown",
   "id": "6d893842",
   "metadata": {},
   "source": [
    "ในตัวอย่าง เป็นการสร้างโมดูลโดยไฟล์ของโมดูลนั้นมีชื่อว่า number.py นั่นหมายความว่าโมดูลนี้มีชื่อว่า number ซึ่งเป็นสิ่งที่เราจะใช้สำหรับเรียกใช้งานโมดูลในการเขียนโปรแกรม \n",
    "\n",
    "ภายในโมดูลประกอบไปด้วย 2 ฟังก์ชันที่ทำงานเกี่ยวกับตัวเลข ฟังก์ชัน factorial() เป็นฟังก์ชันสำหรับหาค่า Factorial ของตัวเลขจำนวนเต็ม n ซึ่งเป็น Recursive function และฟังก์ชัน fibonacci() ใช้หาลำดับของ Fibonacci จนถึงจำนวนเต็ม n"
   ]
  },
  {
   "cell_type": "code",
   "execution_count": null,
   "id": "961cd15c",
   "metadata": {},
   "outputs": [],
   "source": [
    "import number\n",
    "\n",
    "print(f'5! = {number.factorial(5)}')\n",
    "print(number.fibonacci(100))"
   ]
  },
  {
   "cell_type": "markdown",
   "id": "51e9efbc",
   "metadata": {},
   "source": [
    "ในตัวอย่าง เป็นการนำโมดูล number เข้ามาใช้งานที่โปรแกรมหลัก (Main program) โดยการใช้คำสั่ง import และตามด้วยชื่อของโมดูล นี่เป็นการนำเข้าสมาชิกทั้งหมดเข้ามาในโปรแกรม ในการใช้งานฟังก์ชันในโมดูลนั้นสามารถทำได้โดยใช้ชื่อของโมดูล ตามด้วยเครื่องหมายจุด และหลังจากนั้นเป็นฟังก์ชันที่ต้องการ ในรูปแบบ module_name.object_name เราได้เข้าถึงฟังก์ชันทั้งสองในโมดูล"
   ]
  },
  {
   "cell_type": "markdown",
   "id": "3bbf6c68",
   "metadata": {},
   "source": [
    "### การนำเข้าโมดูลด้วยคำสั่ง from ... import\n",
    "\n",
    "ในการใช้งานคำสั่ง import นั้นจะเป็นการนำเข้าออบเจ็คทั้งหมดในโมดูลเข้ามายังโปรแกรม และการใช้งานฟังก์ชันหรือออบเจ็คภายในโมดูลจะต้องนำหน้าด้วยชื่อโมดูลเสมอ ในภาษา Python นั้นมีคำสั่ง from import สำหรับนำเข้าข้อมูลบางส่วนภายในโมดูล และสามารถใช้งานออบเจ็คได้โดยตรงโดยไม่ต้องมี Prefix ชื่อของโมดูล"
   ]
  },
  {
   "cell_type": "code",
   "execution_count": null,
   "id": "c73459a7",
   "metadata": {},
   "outputs": [],
   "source": [
    "from number import factorial\n",
    "\n",
    "print(f'5! = {factorial(5)}')\n",
    "print(f'3! = {factorial(3)}')"
   ]
  },
  {
   "cell_type": "markdown",
   "id": "56c96c69",
   "metadata": {},
   "source": [
    "ในตัวอย่าง เป็นการใช้งานคำสั่ง from ... import เพื่อนำเข้าฟังก์ชันภายในโมดูล number จะเห็นได้ว่าเราได้นำเข้าเพียงฟังก์ชัน factorial() เข้ามาในโปรแกรมและในตอนใช้งานนั้นสามารถใช้ได้โดยที่ไม่ต้องใช้ Prefix ในการเรียกใช้\n",
    "\n",
    "ในอีกทางหนึ่งสามารถนำเข้าหลายออบเจ็ค (ฟังก์ชัน) ในโมดูลโดยการใช้เครื่องหมายคอมมา (,) เป็นตัวคั่น หรือนำเข้าทั้งหมดโดยการใช้เครื่องหมายสตาร์ (*)\n",
    "\n",
    "```python\n",
    "from number import factorial, fibonacci\n",
    "#หรือ\n",
    "from number import *\n",
    "```\n",
    "\n",
    "แต่อย่างไรก็ตามนี่เป็นวิธีที่*ไม่แนะนำ*ในการใช้งาน เพราะว่าวิธีดังกล่าวนั้นจะเป็นการนำเข้าที่อาจจะเกิดความขัดแย้งกัน  \n",
    "\n",
    "ดังนั้นการใช้งานในรูปแบบของ Prefix จึงเป็นวิธีปฏิบัติที่ดีสำหรับการ Import โมดูลเข้ามาในโปรแกรม และนอกจากนี้โมดูลยังสามารถ Import เป็นแบบลำดับชั้นได้"
   ]
  },
  {
   "cell_type": "markdown",
   "id": "054c8d91",
   "metadata": {},
   "source": [
    "### การเปลี่ยนชื่อในการเรียกใช้งานมอดูลให้สั้นลง\n",
    "\n",
    "การใช้คีย์เวิร์ด as เป็นการเปลี่ยนชื่อโมดูลที่เรียกเข้ามาใช้งานในโปรแกรม มีประโยชน์อย่างมากในขณะที่เขียนคําสั่งโปรแกรม เพราะบางโมดูลมีชื่อยาวหรือมีชื่อที่จําได้ยาก \n",
    "\n",
    "มีรูปแบบ\n",
    "```python\n",
    "import module_name as name\n",
    "```"
   ]
  },
  {
   "cell_type": "code",
   "execution_count": null,
   "id": "0cbb965f",
   "metadata": {},
   "outputs": [],
   "source": [
    "import number as nb\n",
    "\n",
    "print(f'5! = {nb.factorial(5)}')\n",
    "print(f'3! = {nb.factorial(3)}')"
   ]
  },
  {
   "cell_type": "markdown",
   "id": "f23a0ff4",
   "metadata": {},
   "source": [
    "## มอดูลที่น่าสนใจ\n",
    "มอดูล python https://docs.python.org/3/py-modindex.html\n",
    "\n",
    "### math \n",
    "\n",
    "เป็นมอดูลเกี่ยวกับการคำนวณทางคณิตศาสตร์\n",
    "\n",
    "https://docs.python.org/3/library/math.html"
   ]
  },
  {
   "cell_type": "code",
   "execution_count": null,
   "id": "8a0b63d7",
   "metadata": {},
   "outputs": [],
   "source": [
    "import math"
   ]
  },
  {
   "cell_type": "code",
   "execution_count": null,
   "id": "b4397bc4",
   "metadata": {},
   "outputs": [],
   "source": [
    "r = 3\n",
    "circumference = 2 * math.pi * r\n",
    "print(f\"Circumference of a Circle = 2 * {math.pi:.4} * {r} = {circumference:.4}\")"
   ]
  },
  {
   "cell_type": "code",
   "execution_count": null,
   "id": "7884c36c",
   "metadata": {},
   "outputs": [],
   "source": [
    "import math\n",
    "\n",
    "def calculate_square_area(d):\n",
    "    \"\"\"ฟังก์ชันคำนวณพื้นที่ของสี่เหลี่ยมจัตุรัสโดยรับข้อมูล: ความยาวของด้าน(d)\"\"\"\n",
    "    square_area = d * d\n",
    "    return square_area\n",
    "\n",
    "def calculate_triangle_area(b, h):\n",
    "    \"\"\"ฟังก์ชันคำนวณพื้นที่ของสามเหลี่ยมโดยรับข้อมูล: ความยาวฐาน(b) และความสูง(h)\"\"\"\n",
    "    triangle_area = (1.0/2.0) * b * h\n",
    "    return triangle_area\n",
    "\n",
    "def calculate_circle_area(d):\n",
    "    \"\"\"ฟังก์ชันคำนวณพื้นที่ของวงกลมโดยรับข้อมูล: รัศมีของวงกลม(r)\"\"\"\n",
    "    circle_area = math.pi * r * r\n",
    "    return circle_area\n",
    "\n",
    "def calculate_trapezoid_area(a, b, h):\n",
    "    \"\"\"ฟังก์ชันคำนวณพื้นที่ของสี่เหลี่ยมคางหมูโดยรับข้อมูล: ด้านยาวส่วนบน(a), ด้านยาวส่วนล่าง(b), ความสูง(h)\"\"\"\n",
    "    trapezoid_area = (1.0/2.0) * (a + b) * h\n",
    "    return trapezoid_area\n",
    "\n",
    "d = 5 # กำหนดความยาวด้าน\n",
    "square_area = calculate_square_area(d)\n",
    "print(f\"พื้นที่สี่เหลี่ยมจัตุรัสที่ด้านยาว {d} หน่วย มีพื้นที่: {square_area:0.2f} ตารางหน่วย\")\n",
    "\n",
    "b = 5 # กำหนดความยาวฐาน\n",
    "h = 3 # กำหนดความสูง\n",
    "traingle_area = calculate_triangle_area(b, h)\n",
    "print(f\"พื้นที่สามเหลี่ยมที่มีด้านฐาน {b} หน่วย และความสูง {h} หน่วย จะมีพื้นที่: {traingle_area:0.2f} ตารางหน่วย\")\n",
    "\n",
    "r = 3 # กำหนดรัศมี\n",
    "circle_area = calculate_circle_area(r)\n",
    "print(f\"พื้นที่วงกลมที่มีรัศมี {r} หน่วย จะมีพื้นที่: {circle_area:0.2f} ตารางหน่วย\")\n",
    "\n",
    "a = 3 # กำหนดด้านยาวส่วนบน\n",
    "b = 5 # กำหนดด้านยาวส่วนล่าง\n",
    "h = 4 # กำหนดความสูง\n",
    "trapezoid_area = calculate_trapezoid_area(a, b, h)\n",
    "print(f\"พื้นที่สี่เหลี่ยมคางหมูที่มีด้านยาวส่วนบน {a} หน่วย, ด้านยาวส่วนล่าง {b} หน่วย และความสูง {h} หน่วย จะมีพื้นที่: {trapezoid_area:0.2f} ตารางหน่วย\")"
   ]
  },
  {
   "cell_type": "code",
   "execution_count": null,
   "id": "8f5e8b8c",
   "metadata": {},
   "outputs": [],
   "source": [
    "#ตัวอย่าง ตรีโกณ\n",
    "deg  = [i for i in range(0,181,10)]\n",
    "\n",
    "#แปลงค่ามุมของ x จาก degrees เป็น radians\n",
    "rad = [math.radians(i) for i in deg]\n",
    "#หาค่า sin()\n",
    "sinx = [math.sin(i) for i in rad]\n",
    "for j in range(len(rad)):\n",
    "    print(f\"sin({deg[j]}\\u02da) = sin({rad[j]:.2f} rad) = {sinx[j]:.2f}\")"
   ]
  },
  {
   "cell_type": "markdown",
   "id": "37362189",
   "metadata": {},
   "source": [
    "หาค่า $49^{\\log_{7}{3}} + 2^{\\log_{4}{9}}$"
   ]
  },
  {
   "cell_type": "code",
   "execution_count": null,
   "id": "46f89c1c",
   "metadata": {},
   "outputs": [],
   "source": [
    "49**(math.log(3,7)) + 2**(math.log(9,4))"
   ]
  },
  {
   "cell_type": "markdown",
   "id": "9e98d67f",
   "metadata": {},
   "source": [
    "จงหาค่า $e^{(1 + ln {5})}$"
   ]
  },
  {
   "cell_type": "code",
   "execution_count": null,
   "id": "6d977bbf",
   "metadata": {},
   "outputs": [],
   "source": [
    "math.e**(1+math.log(5))"
   ]
  },
  {
   "cell_type": "markdown",
   "id": "5ef9ae6f",
   "metadata": {},
   "source": [
    "สูตรการคำนวณหา ค่าความดังสูงสุดที่ระยะ 1 เมตร (Max SPL) คือ\n",
    "\n",
    "SPL = (10*($\\log$ Maximum input power)) + sensitivity ที่ 1W/1m "
   ]
  },
  {
   "cell_type": "code",
   "execution_count": null,
   "id": "b6d52403",
   "metadata": {},
   "outputs": [],
   "source": [
    "sen = 95 #dB\n",
    "maxinput = 500 #W\n",
    "\n",
    "SPL = (10*math.log10(maxinput)) + sen\n",
    "print(f\"ค่าความดังสูงสุดที่ระยะ 1 เมตร คือ {SPL:.2f} dB\")"
   ]
  },
  {
   "cell_type": "markdown",
   "id": "04e69ab3",
   "metadata": {},
   "source": [
    "### datetime\n",
    "\n",
    "datetime เป็นโมดูลที่ไว้ใช้สำหรับในการเรียกข้อมูลเวลาจากในคอมพิวเตอร์หรือใช้จัดการวันเวลา ซึ่งทำให้สะดวกยิ่งขึ้นในการเขียนโปรแกรม \n",
    "                                 \n",
    "https://docs.python.org/3/library/datetime.html"
   ]
  },
  {
   "cell_type": "code",
   "execution_count": null,
   "id": "698035b9",
   "metadata": {},
   "outputs": [],
   "source": [
    "import datetime"
   ]
  },
  {
   "cell_type": "code",
   "execution_count": null,
   "id": "46ec4fd1",
   "metadata": {},
   "outputs": [],
   "source": [
    "x = datetime.datetime(2022, 6, 1)\n",
    "print(x.strftime(\"%B\"))\n",
    "print(x.strftime(\"%a\"))"
   ]
  },
  {
   "cell_type": "code",
   "execution_count": null,
   "id": "f4681ea6",
   "metadata": {},
   "outputs": [],
   "source": [
    "now = datetime.datetime.today()\n",
    "print(now.isoformat())\n",
    "print(now.ctime())"
   ]
  },
  {
   "cell_type": "markdown",
   "id": "dc881973",
   "metadata": {},
   "source": [
    "### random\n",
    "\n",
    "คือโมดูลที่สามารถสุ่มค่าต่าง ๆ ที่กำหนดไว้ได้ เช่น ค่าตัวเลข 1-100 สามารถนำความสามารถนี้ไปใช้งานได้ในหลาย ๆ ด้านเช่น การสุ่มหาเลขผู้โชคดี การสุ่มหาลำดับตัวอักษร\n",
    "\n",
    "https://docs.python.org/3/library/random.html"
   ]
  },
  {
   "cell_type": "code",
   "execution_count": null,
   "id": "4e53f21c",
   "metadata": {},
   "outputs": [],
   "source": [
    "import random "
   ]
  },
  {
   "cell_type": "code",
   "execution_count": null,
   "id": "ca66a118",
   "metadata": {},
   "outputs": [],
   "source": [
    "for i in range(10):    #สุ่ม 9 ครั้ง\n",
    "    c=random.randint(0,100) #ให้้สุ่มเลข 0-100\n",
    "    print(f\"random {i} = {c}\") #แสดงเลขที่สุ่มได้"
   ]
  },
  {
   "cell_type": "code",
   "execution_count": null,
   "id": "796e7b87",
   "metadata": {},
   "outputs": [],
   "source": [
    "bmi_list = [29, 20, 19, 25, 30, 28, 22, 21, 18, 19, 22, 23]\n",
    "print(\"random choice:\", random.choice(bmi_list))"
   ]
  },
  {
   "cell_type": "code",
   "execution_count": null,
   "id": "005c96c4",
   "metadata": {},
   "outputs": [],
   "source": []
  }
 ],
 "metadata": {
  "kernelspec": {
   "display_name": "Python 3",
   "language": "python",
   "name": "python3"
  },
  "language_info": {
   "codemirror_mode": {
    "name": "ipython",
    "version": 3
   },
   "file_extension": ".py",
   "mimetype": "text/x-python",
   "name": "python",
   "nbconvert_exporter": "python",
   "pygments_lexer": "ipython3",
   "version": "3.8.8"
  }
 },
 "nbformat": 4,
 "nbformat_minor": 5
}
