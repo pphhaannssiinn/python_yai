{
 "cells": [
  {
   "cell_type": "markdown",
   "id": "97b730f7",
   "metadata": {},
   "source": [
    "# ตอนที่1 ตอบคำถามต่อไปนี้ให้ถูกต้อง\n",
    "# 1. อธิบายความหมายของ module และ package ในภาษา python มาให้พอเข้าใจ\n",
    " \" โมดูลคือส่วนของโปรแกรมย่อยที่เขียนขึ้นเพื่อให้โปรแกรมหลักเรียกใช้งานได้สะดวก ทำให้โปรแกรมหลักไม่ใหญ่เกินไป ส่วน Package คือการนำ Module หลายๆ Module มารวมกันในไดเรคทอรี่"
   ]
  },
  {
   "cell_type": "markdown",
   "id": "af2d9918",
   "metadata": {},
   "source": [
    "# 2. การเรียกใช้มอดูลโดยใช้คำสั่ง form module import * แตกต่างจากคำสั่ง import module ในการใช้งานอย่างไรบ้าง"
   ]
  },
  {
   "cell_type": "code",
   "execution_count": 1,
   "id": "1fba1dc4",
   "metadata": {},
   "outputs": [
    {
     "data": {
      "text/plain": [
       "' การเรียกใช้แบบ form module import * เวลาเรียกใช้ Function ไม่ต้องมีชื่อ Module นำหน้า ต่างจาก import module เวลาเรียกใช้ต้อง ใช้ชื่อ Module นำหน้า '"
      ]
     },
     "execution_count": 1,
     "metadata": {},
     "output_type": "execute_result"
    }
   ],
   "source": [
    "\" การเรียกใช้แบบ form module import * เวลาเรียกใช้ Function ไม่ต้องมีชื่อ Module นำหน้า ต่างจาก import module เวลาเรียกใช้ต้อง ใช้ชื่อ Module นำหน้า \""
   ]
  },
  {
   "cell_type": "markdown",
   "id": "140bc2bf",
   "metadata": {},
   "source": [
    "# 3. หากต้องการใช้ฟังก์ชันทางคณิตศาสตร์มีมอดูลชื่อว่าอะไร และมีวิธีการเรียกใช้มอดูลนี้อย่างไร"
   ]
  },
  {
   "cell_type": "markdown",
   "id": "f4cf026d",
   "metadata": {},
   "source": [
    "\" มีชื่อว่า math วิธีการเรียกใช้ ใช้คำสั่ง import math\""
   ]
  },
  {
   "cell_type": "markdown",
   "id": "513357d8",
   "metadata": {},
   "source": [
    "# 4. หากต้องการใช้เฉพาะฟังก์ชัน tan() เพียงฟังก์ชันเดียว มีวิธีการเรียกใช้มอดูลอย่างไร"
   ]
  },
  {
   "cell_type": "markdown",
   "id": "22d14559",
   "metadata": {},
   "source": [
    "from math import tan"
   ]
  },
  {
   "cell_type": "markdown",
   "id": "4977b9b2",
   "metadata": {},
   "source": [
    "# 5. จากสมการทางคณิตศาสตร์ต่อไปนี้"
   ]
  },
  {
   "attachments": {
    "Snag_a46573.png": {
     "image/png": "[encoded data removed]"
    }
   },
   "cell_type": "markdown",
   "id": "2f3b065f",
   "metadata": {},
   "source": [
    "![Snag_a46573.png](attachment:Snag_a46573.png)"
   ]
  },
  {
   "cell_type": "markdown",
   "id": "369f1d27",
   "metadata": {},
   "source": [
    "(1) เมื่อ 𝑥 = 2𝜋 หาค่าของสมการด้านซ้ายมือโดยใช้ฟังก์ชัน sinh(𝑥) มีรูปแบบคำสั่งอย่างไร"
   ]
  },
  {
   "cell_type": "code",
   "execution_count": 3,
   "id": "e23f473e",
   "metadata": {
    "scrolled": true
   },
   "outputs": [
    {
     "name": "stdout",
     "output_type": "stream",
     "text": [
      "267.74489404101644\n"
     ]
    }
   ],
   "source": [
    "from math import sinh,pi\n",
    "x=sinh(2*pi)\n",
    "print(x)"
   ]
  },
  {
   "cell_type": "markdown",
   "id": "84faba84",
   "metadata": {},
   "source": [
    "(2) เม่อื 𝑥 = 2𝜋 หาค่าของสมการด้านขวามือ รูปแบบคำสั่งเป็นอย่างไร"
   ]
  },
  {
   "cell_type": "code",
   "execution_count": 4,
   "id": "ae7beffe",
   "metadata": {},
   "outputs": [
    {
     "name": "stdout",
     "output_type": "stream",
     "text": [
      "267.74489404101644\n"
     ]
    }
   ],
   "source": [
    "from math import pi,exp\n",
    "result=(exp(2*pi)-(exp(-(2*pi))))/2\n",
    "print(result)"
   ]
  },
  {
   "cell_type": "markdown",
   "id": "28a241a5",
   "metadata": {},
   "source": [
    "(3) เปรียบเทียบผลลัพธ์จากการใช้ทั้งสองฟังก์ชันเป็นอย่างไร"
   ]
  },
  {
   "cell_type": "markdown",
   "id": "4aa30521",
   "metadata": {},
   "source": [
    "\" ค่าที่ได้เท่ากัน \""
   ]
  },
  {
   "cell_type": "markdown",
   "id": "83aa1015",
   "metadata": {},
   "source": [
    "# 6. จากมอดูล math ให้อธิบายฟังก์ชันต่อไปนี้"
   ]
  },
  {
   "cell_type": "markdown",
   "id": "292f69d6",
   "metadata": {},
   "source": [
    "(1) ceil() คือฟังก์ชันสำหรับหาค่าอะไร"
   ]
  }
 ],
 "metadata": {
  "kernelspec": {
   "display_name": "Python 3",
   "language": "python",
   "name": "python3"
  },
  "language_info": {
   "codemirror_mode": {
    "name": "ipython",
    "version": 3
   },
   "file_extension": ".py",
   "mimetype": "text/x-python",
   "name": "python",
   "nbconvert_exporter": "python",
   "pygments_lexer": "ipython3",
   "version": "3.8.8"
  }
 },
 "nbformat": 4,
 "nbformat_minor": 5
}
