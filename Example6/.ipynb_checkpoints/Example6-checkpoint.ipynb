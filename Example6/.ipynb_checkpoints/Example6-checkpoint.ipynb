{
 "cells": [
  {
   "cell_type": "markdown",
   "id": "d004bbe9",
   "metadata": {},
   "source": [
    "# 1.จากตัวแปรอักขระ text='abcde' ต้องการเปลี่ยนให้เป็นข้อมูลลิสต์ แล้วเก็บไว้ที่ตัวแปร mylist จะใช้คำสั่งอย่างไร\n",
    " "
   ]
  },
  {
   "cell_type": "code",
   "execution_count": null,
   "id": "21bd6ee9",
   "metadata": {},
   "outputs": [],
   "source": [
    "text='abcde'\n",
    "mylist=[text[0],text[1],text[2],text[3],text[4]]\n",
    "print(mylist)"
   ]
  },
  {
   "cell_type": "markdown",
   "id": "cd9053fb",
   "metadata": {},
   "source": [
    "# 2.จากโค้ดโปรแกรมต่อไปนี้\n",
    "    1 mylist = [2 , 3, 5, 7, 11 , 13]\n",
    "    2 print ( mylist )"
   ]
  },
  {
   "cell_type": "code",
   "execution_count": null,
   "id": "5290e320",
   "metadata": {},
   "outputs": [],
   "source": [
    "mylist=[2,3,5,7,11,13]\n",
    "print(mylist)"
   ]
  },
  {
   "cell_type": "markdown",
   "id": "3948ed82",
   "metadata": {},
   "source": [
    "    (1) จากโค้ดผลลัพธ์ที่ได้คือ [2, 3, 5, 7, 11, 13]"
   ]
  },
  {
   "cell_type": "code",
   "execution_count": null,
   "id": "18e6c32f",
   "metadata": {},
   "outputs": [],
   "source": [
    "print(mylist[2])"
   ]
  },
  {
   "cell_type": "markdown",
   "id": "4e9649bb",
   "metadata": {},
   "source": [
    "    (2) จากคำสั่ง print(mylist[2]) ผลลัพธ์ที่ได้คือ 5\n",
    "        หมายเลข 2 หมายถึงอะไร  หมายถึงข้อมูลลำดับที่ 3 โดยมีการเริ่มนับลำดับข้อมูลที่ 0"
   ]
  },
  {
   "cell_type": "code",
   "execution_count": null,
   "id": "9e3ce58c",
   "metadata": {},
   "outputs": [],
   "source": [
    "print(mylist[-2])"
   ]
  },
  {
   "cell_type": "markdown",
   "id": "919c1be9",
   "metadata": {},
   "source": [
    "    (3) จากคำสั่ง print(mylist[-2]) ผลลัพธ์ที่ได้คือ  11\n",
    "        เลข -2 หมายถึงอะไร  ข้อมูลลำดับที่ 2 เริ่มนับจากทางด้านขวา"
   ]
  },
  {
   "cell_type": "markdown",
   "id": "542078b2",
   "metadata": {},
   "source": [
    "    (4) หากต้องการแสดงค่าเลข 3 ของตัวแปร mylist บนจอภาพ ต้องใช้คำสั่งอย่างไร"
   ]
  },
  {
   "cell_type": "code",
   "execution_count": null,
   "id": "8eda2014",
   "metadata": {},
   "outputs": [],
   "source": [
    "print(mylist[1])"
   ]
  },
  {
   "cell_type": "markdown",
   "id": "87833f75",
   "metadata": {},
   "source": [
    "    (5) คำสั่ง print(len(mylist)) ผลลัพธ์ที่ได้คือ 6"
   ]
  },
  {
   "cell_type": "code",
   "execution_count": null,
   "id": "f425b996",
   "metadata": {},
   "outputs": [],
   "source": [
    "print(len(mylist))"
   ]
  },
  {
   "cell_type": "markdown",
   "id": "eaebd094",
   "metadata": {},
   "source": [
    "        คำสั่ง len() เป็นคำสั่งอะไร คำสั่งการหาความยาวของลำดับข้อมูล"
   ]
  },
  {
   "cell_type": "markdown",
   "id": "890bfc85",
   "metadata": {},
   "source": [
    "# 3. จากโค้ดโปรแกรมต่อไปนี้"
   ]
  },
  {
   "cell_type": "code",
   "execution_count": null,
   "id": "1324594a",
   "metadata": {},
   "outputs": [],
   "source": [
    "mlist=['H','e','l','l','o']\n",
    "print(mlist)\n",
    "mlist[0]='h'\n",
    "print(mlist)"
   ]
  },
  {
   "cell_type": "markdown",
   "id": "95949fd9",
   "metadata": {},
   "source": [
    "    (1) ผลลัพธ์ของคำสั่ง print(mlist) ในบรรทัดที่2 และ 4 เหมือนหรือแตกต่างกันอย่างไร ต่างกันที่ค่าข้อมูลลำดับที่ 1"
   ]
  },
  {
   "cell_type": "markdown",
   "id": "b230c906",
   "metadata": {},
   "source": [
    "    (2) หากต้องการเปลี่ยนค่าของตัวแปร mlist จาก e เป็น E ต้องพิมพ์คำสั่งอย่างไร"
   ]
  },
  {
   "cell_type": "code",
   "execution_count": null,
   "id": "0327e3ac",
   "metadata": {},
   "outputs": [],
   "source": [
    "mlist[1]='E'\n",
    "print(mlist)"
   ]
  },
  {
   "cell_type": "markdown",
   "id": "37f490ca",
   "metadata": {},
   "source": [
    "# 4. จากโค้ดโปรแกรมต่อไปนี้"
   ]
  },
  {
   "cell_type": "code",
   "execution_count": null,
   "id": "1c2eb54f",
   "metadata": {},
   "outputs": [],
   "source": [
    "cat_name = [\" Homer \", \" Marge \", \" Bart \", \" Lisa \", \" Maggie \"]\n",
    "print ( cat_name [2:4])"
   ]
  },
  {
   "cell_type": "markdown",
   "id": "df939aaf",
   "metadata": {},
   "source": [
    "    (1) ผลลัพธ์ที่ได้คือ [' Bart ', ' Lisa ']"
   ]
  },
  {
   "cell_type": "code",
   "execution_count": null,
   "id": "615ddda5",
   "metadata": {
    "scrolled": true
   },
   "outputs": [],
   "source": [
    "print(cat_name[2:])"
   ]
  },
  {
   "cell_type": "markdown",
   "id": "8e73e312",
   "metadata": {},
   "source": [
    "    (2) จาก print(cat_name[2:]) ผลลัพธ์คือ [' Bart ', ' Lisa ', ' Maggie ']\n",
    "        แตกต่างจากข้อ (1) อย่างไร  แตกต่างตรงที่ข้อ(2)แสดงข้อมูลลำดับที่ 2 (ลำดับเริ่มต้นคือ 0) หรือตำแหน่งที่ 3 (Bart) จนถึงลำดับสุดท้าย"
   ]
  },
  {
   "cell_type": "code",
   "execution_count": null,
   "id": "37f0d5cf",
   "metadata": {},
   "outputs": [],
   "source": [
    "print(cat_name[:4])"
   ]
  },
  {
   "cell_type": "markdown",
   "id": "c3c77a63",
   "metadata": {},
   "source": [
    "    (3) จาก print(cat_name[:4]) ผลลัพธ์คือ [' Homer ', ' Marge ', ' Bart ', ' Lisa ']\n",
    "        แตกต่างจากข้อ (1) อย่างไร ต่างกันตรงที่ข้อ (3) แสดงข้อมูลทั้งหมด 4 ตำแหน่ง โดยเริ่มตั้งแต่ตำแหน่งแรกจนถึงตำแหน่งที่ 4\n",
    "    (4) ค่า 2 มีความหมายอย่างไร แสดงข้อมูลเริ่มต้นที่ตำแหน่งที่ 3 หรือลำดับที่ 2\n",
    "    (5) ค่า 4 มีความหมายอย่างไร แสดงข้อมูลจนถึงตำแหน่งที่ 4 หรือลำดับที่ 3"
   ]
  },
  {
   "cell_type": "code",
   "execution_count": null,
   "id": "c2418a4c",
   "metadata": {},
   "outputs": [],
   "source": [
    "print(cat_name[:])"
   ]
  },
  {
   "cell_type": "markdown",
   "id": "9e819818",
   "metadata": {},
   "source": [
    "    (6) จาก print(cat_name[:]) ผลลัพธ์คือ [' Homer ', ' Marge ', ' Bart ', ' Lisa ', ' Maggie ']\n",
    "        มีคำสั่งอะไรบ้างที่ให้ผลลัพธ์เหมือนกัน\n",
    "        print( cat_name[:5])\n",
    "        print(cat_name[0:5])\n",
    "        print(cat_name[0:])"
   ]
  },
  {
   "cell_type": "markdown",
   "id": "4ce63b09",
   "metadata": {},
   "source": [
    "    (7) หากต้องการให้แสดงผลเป็น [\"Marge\", \"Bart\"] ใช้คำสั่งอย่างไร\n",
    "        print(cat_name[1:3])"
   ]
  },
  {
   "cell_type": "code",
   "execution_count": null,
   "id": "d4b62b04",
   "metadata": {},
   "outputs": [],
   "source": [
    "print(cat_name[1:3])"
   ]
  },
  {
   "cell_type": "code",
   "execution_count": null,
   "id": "2d33c750",
   "metadata": {
    "scrolled": true
   },
   "outputs": [],
   "source": [
    "print(cat_name[1:-2])"
   ]
  },
  {
   "cell_type": "markdown",
   "id": "7e5bd93a",
   "metadata": {},
   "source": [
    "        (8) จาก print(cat_name[1:-2]) ผลลัพธ์คือ [' Marge ', ' Bart ']\n",
    "            ค่า -2 มีความหมายอย่างไร อ่านข้อมูลจนถึง ลำดับที่ 2 จากขวา"
   ]
  },
  {
   "cell_type": "code",
   "execution_count": null,
   "id": "44449fa7",
   "metadata": {},
   "outputs": [],
   "source": [
    "print(cat_name[::-1])"
   ]
  },
  {
   "cell_type": "markdown",
   "id": "84ce7882",
   "metadata": {},
   "source": [
    "    (9) จาก print(cat_name[::-1]) ผลลัพธ์คือ [' Maggie ', ' Lisa ', ' Bart ', ' Marge ', ' Homer ']"
   ]
  },
  {
   "cell_type": "markdown",
   "id": "cb484008",
   "metadata": {},
   "source": [
    "# 5. จากโค้ดโปรแกรมต่อไปนี้"
   ]
  },
  {
   "cell_type": "code",
   "execution_count": null,
   "id": "fad2dc2f",
   "metadata": {},
   "outputs": [],
   "source": [
    "odd = [2 , 4, 6, 8]\n",
    "odd [0] = 1\n",
    "print ( odd )\n",
    "odd [1:4] = [3 , 5, 7]\n",
    "print ( odd )"
   ]
  },
  {
   "cell_type": "markdown",
   "id": "8c2811c6",
   "metadata": {},
   "source": [
    "    (1) ผลลัพธ์ของคำสั่ง print(odd) ในบรรทัดที่3 และ 5 เหมือนหรือแตกต่างกันอย่างไร เพราะเหตุใด\n",
    "        ต่างกัน บรรทัดที่ 3 แสดงการเปลี่ยนข้อมูลที่ลำดับที่ 0 ตัวเดียว ส่วนในบรรทัดที่ 5 แสดงการเปลี่ยนข้อมูลลำดับที่ 0 จนถึงลำดับสุดท้าย\n",
    "    (2) หากต้องการเปลี่ยนค่าของตัวแปร odd เป็น [1, 3, 3, 1] ต้องพิมพ์คำสั่งในบรรทัดที่6 อย่างไร\n",
    "        odd[0:4]=[1,3,3,1]\n",
    "        print(odd)"
   ]
  },
  {
   "cell_type": "code",
   "execution_count": null,
   "id": "9dacd3ac",
   "metadata": {},
   "outputs": [],
   "source": [
    "odd[0:4]=[1,3,3,1]\n",
    "print(odd)"
   ]
  },
  {
   "cell_type": "markdown",
   "id": "f8d265db",
   "metadata": {},
   "source": [
    "# 6. จากโค้ดโปรแกรมต่อไปนี้"
   ]
  },
  {
   "cell_type": "code",
   "execution_count": null,
   "id": "c675fd2c",
   "metadata": {},
   "outputs": [],
   "source": [
    "nlist = [\" Happy \", [2 ,0 ,1 ,5] , [' cat ',' dog ']]\n",
    "print ( nlist [0][1])"
   ]
  },
  {
   "cell_type": "markdown",
   "id": "05edd0bf",
   "metadata": {},
   "source": [
    "    (1) ผลลัพธ์ที่ได้คือ  H\n",
    "    (2) ค่า [0] ในบรรทัดที่2 มีความหมายอย่างไร  list ลำดับที่ 0 หรือ list ตัวแรก ตำแหน่งแรก ตำแหน่งที่ 1\n",
    "    (3) ค่า [1] ในบรรทัดที่2 มีความหมายอย่างไร ข้อมูลในlist ลำดับที่ 1 หรือตัวที่่ 2 ตำแหน่งที่ 2\n",
    "    (4) จากคำสั่ง print(nlist[1][3]) ผลลัพธ์คืออะไร  5"
   ]
  },
  {
   "cell_type": "code",
   "execution_count": null,
   "id": "aa18edc5",
   "metadata": {},
   "outputs": [],
   "source": [
    "print(nlist[1][3])"
   ]
  },
  {
   "cell_type": "markdown",
   "id": "90ae9a5b",
   "metadata": {},
   "source": [
    "    (5) จากคำสั่ง print(len(nlist)) ผลลัพธ์ที่ได้คือ 3"
   ]
  },
  {
   "cell_type": "code",
   "execution_count": null,
   "id": "2187c874",
   "metadata": {},
   "outputs": [],
   "source": [
    "print(len(nlist))"
   ]
  },
  {
   "cell_type": "code",
   "execution_count": null,
   "id": "286e9ab3",
   "metadata": {},
   "outputs": [],
   "source": [
    "print(nlist[3][0])"
   ]
  },
  {
   "cell_type": "markdown",
   "id": "53c8a196",
   "metadata": {},
   "source": [
    "    (6) จากคำสั่ง print(nlist[3][0]) ผลลัพธ์เป็นอย่างไร Error\n",
    "        เพราะเหตุใด range ลำดับที่ 3 ที่กำหนดไปนั้น ไม่มีใน list หรือเกิน range ที่มีถึงแค่ลำดับที่ 2 นั่นเอง"
   ]
  },
  {
   "cell_type": "markdown",
   "id": "e604dd15",
   "metadata": {},
   "source": [
    "# 7. จากตัวแปร list = [[30], [20.2, \"Python\"]] ต้องการนำค่า Python จากตัวแปร list แสดงผลที่จอ ใช้คำสั่งอย่างไร"
   ]
  },
  {
   "cell_type": "code",
   "execution_count": null,
   "id": "0399b69c",
   "metadata": {},
   "outputs": [],
   "source": [
    "list = [[30], [20.2, \"Python\"]]\n",
    "print(list[1][1])"
   ]
  },
  {
   "cell_type": "markdown",
   "id": "ce429594",
   "metadata": {},
   "source": [
    "# 8. จากโค้ดโปรแกรมต่อไปนี้"
   ]
  },
  {
   "cell_type": "markdown",
   "id": "ba185bd0",
   "metadata": {},
   "source": [
    "    odd = [1 , 3, 5]\n",
    "    odd . append ([7 ,8 ,9])\n",
    "    print ( odd )\n",
    "    และ\n",
    "    odd = [1 , 3, 5]\n",
    "    odd . extend ([7 , 8, 9])\n",
    "    print ( odd )"
   ]
  },
  {
   "cell_type": "code",
   "execution_count": null,
   "id": "c413f977",
   "metadata": {},
   "outputs": [],
   "source": [
    "odd = [1 , 3, 5]\n",
    "odd . append ([7 ,8 ,9])\n",
    "print ( odd )"
   ]
  },
  {
   "cell_type": "code",
   "execution_count": null,
   "id": "db2dc554",
   "metadata": {},
   "outputs": [],
   "source": [
    "odd = [1 , 3, 5]\n",
    "odd . extend ([7 , 8, 9])\n",
    "print ( odd )"
   ]
  },
  {
   "cell_type": "markdown",
   "id": "7a6c5db8",
   "metadata": {},
   "source": [
    "    (1) ผลลัพธ์ของทั้งสองโค้ด เหมือนหรือแตกต่างกันอย่างไร โค้ดแรกเป็นการเพิ่มข้อมูล list ลงไปใน list โค้ดที่สองเป็นการนำข้อมูลใน list เพิ่มลงไปใน list เดิม\n",
    "    (2) คำสั่ง .append() เป็นคำสั่งอะไร เพิ่มข้อมูลลงไปใน list ที่มีอยู่ก่อนแล้วตามข้อมูลที่ต้องการเพิ่ม เช่น ข้อมูลเป็น list ก็จะเพิ่มแบบ list ลงไปเลย\n",
    "    (3) คำสั่ง .extend() เป็นคำสั่งอะไร เป็นคำสั่งที่เอาข้อมูลใน list ไปเพิ่มในอีก list หนึ่ง โค้ดที่เขียนต้องเขียนในรูปแบบ list ที่มี []"
   ]
  },
  {
   "cell_type": "markdown",
   "id": "a53086e1",
   "metadata": {},
   "source": [
    "# 9. กำหนดให้list_a = [1, 2, 3] และ list_b = [4, 5] ต้องการเพิ่ม list_b ลงใน list_a โดย\n",
    "ให้มีค่า list_a = [1, 2, 3, 4, 5] ใช้คำสั่งอย่างไร"
   ]
  },
  {
   "cell_type": "code",
   "execution_count": null,
   "id": "404bcc90",
   "metadata": {},
   "outputs": [],
   "source": [
    "list_a = [1, 2, 3]\n",
    "list_b = [4, 5]\n",
    "list_a.extend(list_b)\n",
    "print(list_a)"
   ]
  },
  {
   "cell_type": "markdown",
   "id": "d00e03f9",
   "metadata": {},
   "source": [
    "# 10. จากโค้ดโปรแกรมต่อไปนี้"
   ]
  },
  {
   "cell_type": "markdown",
   "id": "3ffcf38f",
   "metadata": {},
   "source": [
    "    odd = [1 , 9, 11]\n",
    "    odd . insert (2 ,[5 ,7])\n",
    "    print ( odd )\n",
    "    และ\n",
    "    odd = [1 , 9, 11]\n",
    "    odd [2:2] = [5 , 7]\n",
    "    print ( odd )"
   ]
  },
  {
   "cell_type": "code",
   "execution_count": null,
   "id": "d8e20444",
   "metadata": {},
   "outputs": [],
   "source": [
    "odd = [1 , 9, 11]\n",
    "odd . insert (2 ,[5 ,7])\n",
    "print ( odd )"
   ]
  },
  {
   "cell_type": "code",
   "execution_count": null,
   "id": "8f5b25a5",
   "metadata": {},
   "outputs": [],
   "source": [
    "odd = [1 , 9, 11]\n",
    "odd [2:2] = [5 , 7]\n",
    "print ( odd )"
   ]
  },
  {
   "cell_type": "markdown",
   "id": "6c3c92c7",
   "metadata": {},
   "source": [
    "    (1) ผลลัพธ์ของทั้งสองโค้ด เหมือนหรือแตกต่างกันอย่างไร ต่างกันที่โค้ดแรกเป็นการเพิ่มข้อมูลที่เป็น list ลงใน list อีกที ส่วนโค้ดที่สองเป็นการเพิ่มข้อมูลจาก list ไป list\n",
    "    (2) หมายเลข 2 ในโค้ดบรรทัดที่2 ของทั้งสองโค้ด หมายความถึงอะไร เพิ่มข้อมูลที่ลำดับที่ 2 หรือ ตำแหน่งที่ 3 หรือ index 3 นั่นเอง\n",
    "    (3) คำสั่ง .insert() เป็นคำสั่งอะไร คำสั่ง เพิ่มข้อมูลลงใน list ตามลำดับที่ต้องการ\n",
    "    (4) [2:2] หมายถึงอะไร การเพิ่มข้อมูลงในลำดับหรือ index ตามตัวเลขนั้น\n",
    "    "
   ]
  },
  {
   "cell_type": "markdown",
   "id": "7ece5f9e",
   "metadata": {},
   "source": [
    "# 11. ให้a = ['1','2','4'] หากต้องการเพิ่มเป็น a = ['1','2','3','4']\n",
    "ใช้คำสั่งอย่างไร"
   ]
  },
  {
   "cell_type": "code",
   "execution_count": null,
   "id": "dea10565",
   "metadata": {},
   "outputs": [],
   "source": [
    "a=['1','2','4']\n",
    "a.insert(2,'3')\n",
    "print(a)"
   ]
  },
  {
   "cell_type": "markdown",
   "id": "0b13a507",
   "metadata": {},
   "source": [
    "# 12. จากโค้ดโปรแกรมต่อไปนี้"
   ]
  },
  {
   "cell_type": "code",
   "execution_count": null,
   "id": "fc964cc5",
   "metadata": {},
   "outputs": [],
   "source": [
    "mylist = ['p','r','o','b','l','e','m']\n",
    "del mylist [2]\n",
    "print ( mylist )"
   ]
  },
  {
   "cell_type": "markdown",
   "id": "30ba7779",
   "metadata": {},
   "source": [
    "    (1) ผลลัพธ์ที่ได้คือ ['p ', 'r ', 'b ', 'l ', 'e ', 'm ']\n",
    "    (2) หากเปลี่ยนโค้ดบรรทัดที่2 เป็น mylist.pop(2) ผลที่่ได้คือ ['p ', 'r ', 'b ', 'l ', 'e ', 'm ']"
   ]
  },
  {
   "cell_type": "code",
   "execution_count": null,
   "id": "0a493a3c",
   "metadata": {},
   "outputs": [],
   "source": [
    "mylist = ['p','r ','o','b','l ','e','m']\n",
    "mylist.pop(2)\n",
    "print(mylist)"
   ]
  },
  {
   "cell_type": "markdown",
   "id": "48811f39",
   "metadata": {},
   "source": [
    "    (3) หากเปลี่ยนโค้ดบรรทัดที่2 เป็น mylist.remove('o') ผลที่่ได้คือ ['p', 'r', 'b', 'l ', 'e', 'm']"
   ]
  },
  {
   "cell_type": "code",
   "execution_count": 1,
   "id": "ba2db084",
   "metadata": {},
   "outputs": [
    {
     "name": "stdout",
     "output_type": "stream",
     "text": [
      "['p', 'r', 'b', 'l ', 'e', 'm']\n"
     ]
    }
   ],
   "source": [
    "mylist = ['p','r','o','b','l ','e','m']\n",
    "mylist.remove('o')\n",
    "print(mylist)"
   ]
  },
  {
   "cell_type": "markdown",
   "id": "6dc60011",
   "metadata": {},
   "source": [
    "# 13. ต้องการเปลี่ยนค่าจาก ['p','r','o','b','l','e','m'] เป็น ['p', 'r', 'e', 'm']\n",
    "ใช้คำสั่งอะไรได้บ้าง\n",
    "    -"
   ]
  },
  {
   "cell_type": "code",
   "execution_count": 3,
   "id": "7df2fa27",
   "metadata": {},
   "outputs": [
    {
     "name": "stdout",
     "output_type": "stream",
     "text": [
      "['p', 'r', 'e', 'm']\n"
     ]
    }
   ],
   "source": [
    "mylist = ['p','r','o','b','l','e','m']\n",
    "del mylist [2:5]\n",
    "print ( mylist )"
   ]
  },
  {
   "cell_type": "code",
   "execution_count": 4,
   "id": "e9085f01",
   "metadata": {},
   "outputs": [
    {
     "name": "stdout",
     "output_type": "stream",
     "text": [
      "['p', 'r', 'e', 'm']\n"
     ]
    }
   ],
   "source": [
    "mylist = ['p','r','o','b','l','e','m']\n",
    "del mylist [2]\n",
    "del mylist [2]\n",
    "del mylist [2]\n",
    "print ( mylist )"
   ]
  },
  {
   "cell_type": "code",
   "execution_count": 5,
   "id": "def9f3d6",
   "metadata": {},
   "outputs": [
    {
     "name": "stdout",
     "output_type": "stream",
     "text": [
      "['p', 'r', 'e', 'm']\n"
     ]
    }
   ],
   "source": [
    "mylist = ['p','r','o','b','l','e','m']\n",
    "mylist.remove('o')\n",
    "mylist.remove('b')\n",
    "mylist.remove('l')\n",
    "print ( mylist )"
   ]
  },
  {
   "cell_type": "code",
   "execution_count": 6,
   "id": "baaf7bec",
   "metadata": {},
   "outputs": [
    {
     "name": "stdout",
     "output_type": "stream",
     "text": [
      "['p', 'r', 'e', 'm']\n"
     ]
    }
   ],
   "source": [
    "mylist = ['p','r','o','b','l','e','m']\n",
    "mylist.pop(2)\n",
    "mylist.pop(2)\n",
    "mylist.pop(2)\n",
    "print ( mylist )"
   ]
  },
  {
   "cell_type": "code",
   "execution_count": 7,
   "id": "25bf57d1",
   "metadata": {},
   "outputs": [
    {
     "name": "stdout",
     "output_type": "stream",
     "text": [
      "['p', 'r', 'e', 'm']\n"
     ]
    }
   ],
   "source": [
    "mylist = ['p','r','o','b','l','e','m']\n",
    "mylist [2:7]=['e','m']\n",
    "print ( mylist )"
   ]
  },
  {
   "cell_type": "markdown",
   "id": "267a43dc",
   "metadata": {},
   "source": [
    "# 14. กำหนดให้ a = [1, 2, 3] และ b = [4, 5]"
   ]
  },
  {
   "cell_type": "code",
   "execution_count": 8,
   "id": "7922cf06",
   "metadata": {},
   "outputs": [
    {
     "name": "stdout",
     "output_type": "stream",
     "text": [
      "[1, 2, 3, 1, 2, 3]\n",
      "[1, 2, 3, 4, 5]\n",
      "[4, 5, 1, 2, 3]\n",
      "[4, 5, 4, 5]\n",
      "7\n",
      "[4, 5, 2]\n"
     ]
    }
   ],
   "source": [
    "a=[1,2,3]\n",
    "b=[4,5]\n",
    "print(a+a)\n",
    "print(a+b)\n",
    "print(b+a)\n",
    "print(b*2)\n",
    "print(a[1]+b[-1])\n",
    "b.insert(2,2)\n",
    "print(b)"
   ]
  },
  {
   "cell_type": "markdown",
   "id": "3ad034b7",
   "metadata": {},
   "source": [
    "    (1) a + a มีค่า [1, 2, 3, 1, 2, 3]\n",
    "    (2) a + b มีค่า [1, 2, 3, 4, 5]\n",
    "    (3) b + a มีค่า [4, 5, 1, 2, 3]\n",
    "    (4) b * 2 มีค่า [4, 5, 4, 5]\n",
    "    (5) a[1] + b[-1] มีค่า 7\n",
    "    (6) ต้องการผลลัพธ์เป็น [4,5,2] ใช้คำสั่งอย่างไร\n",
    "        b.insert(2,2)"
   ]
  },
  {
   "cell_type": "code",
   "execution_count": null,
   "id": "bd5bc61a",
   "metadata": {},
   "outputs": [],
   "source": []
  }
 ],
 "metadata": {
  "kernelspec": {
   "display_name": "Python 3",
   "language": "python",
   "name": "python3"
  },
  "language_info": {
   "codemirror_mode": {
    "name": "ipython",
    "version": 3
   },
   "file_extension": ".py",
   "mimetype": "text/x-python",
   "name": "python",
   "nbconvert_exporter": "python",
   "pygments_lexer": "ipython3",
   "version": "3.8.8"
  }
 },
 "nbformat": 4,
 "nbformat_minor": 5
}
