{
 "cells": [
  {
   "cell_type": "markdown",
   "id": "b33a2c87",
   "metadata": {},
   "source": [
    "## ข้อมูลประเภทลิสต์\n",
    "\n",
    "ข้อมูลประเภทคอลเล็คชั่น Collections ในภาษาไพธอน มีอยู่ 4 ประเภท ดังนี้\n",
    "\n",
    "- List ลิสต์ คือ ชุดข้อมูลแบบคอลเล็คชั่นที่มีการเรียงลำดับ และแก้ไขได้ สามารถมีสมาชิกซ้ำกันได้\n",
    "- Tuple ทูเพิ้ล คือ ชุดข้อมูลแบบคอลเล็คชั่นที่มีการเรียงลำดับเหมือนลิสต์ แต่ไม่สามารถแก้ไขได้ สามารถมีสมาชิกซ้ำกันได้\n",
    "- Set เซ็ต คือ ชุดข้อมูลแบบคอลเล็คชั่นที่ไม่มีการเรียงลำดับ ไม่มีการทำอินเด็กซ์ และมีสมาชิกซ้ำกันไม่ได้\n",
    "- Dictionary ดิกชันนารี คือ ชุดข้อมูลแบบคอลเล็คชั่นที่ไม่มีการเรียงลำดับ แต่แก้ไขได้ มีการทำอินเด็กซ์ และมีสมาชิกซ้ำกันไม่ได้\n",
    "\n",
    "การสร้างข้อมูลแบบ List ในภาษาไพธอน จะใช้เครื่องหมาย square brackets [ ] ครอบชุดข้อมูล"
   ]
  },
  {
   "cell_type": "code",
   "execution_count": 1,
   "id": "59900c52",
   "metadata": {},
   "outputs": [
    {
     "name": "stdout",
     "output_type": "stream",
     "text": [
      "[2, 3, 5, 7, 11, 13, 17]\n"
     ]
    }
   ],
   "source": [
    "#ตัวอย่างข้อมูลแบบลิสต์\n",
    "list1 = [2,3,5,7,11,13,17]\n",
    "print(list1)"
   ]
  },
  {
   "cell_type": "code",
   "execution_count": 8,
   "id": "3080ad6d",
   "metadata": {},
   "outputs": [
    {
     "name": "stdout",
     "output_type": "stream",
     "text": [
      "['Swift', 'C++', 'Python', 'Java']\n"
     ]
    }
   ],
   "source": [
    "#อีกวิธีหนึ่ง สามารถสร้างลิสต์ได้โดยการใช้คอนสตรัคเตอร์ list()\n",
    "list2 = list((\"Swift\", \"C++\", \"Python\", \"Java\"))\n",
    "print(list2)"
   ]
  },
  {
   "cell_type": "code",
   "execution_count": 6,
   "id": "d15b8e02",
   "metadata": {
    "scrolled": true
   },
   "outputs": [
    {
     "data": {
      "text/plain": [
       "7"
      ]
     },
     "execution_count": 6,
     "metadata": {},
     "output_type": "execute_result"
    }
   ],
   "source": [
    "#หาความยาวของ list  (จำนวนข้อมูลใน list) ใช้คำสั่ง len()\n",
    "len(list1)"
   ]
  },
  {
   "cell_type": "code",
   "execution_count": 5,
   "id": "149d8540",
   "metadata": {},
   "outputs": [
    {
     "data": {
      "text/plain": [
       "4"
      ]
     },
     "execution_count": 5,
     "metadata": {},
     "output_type": "execute_result"
    }
   ],
   "source": [
    "len(list2)"
   ]
  },
  {
   "cell_type": "code",
   "execution_count": 9,
   "id": "6642a1d1",
   "metadata": {},
   "outputs": [
    {
     "name": "stdout",
     "output_type": "stream",
     "text": [
      "4\n"
     ]
    }
   ],
   "source": [
    "x = [1,2,[3,4,5],\"ABC\"]\n",
    "print(len(x))"
   ]
  },
  {
   "cell_type": "markdown",
   "id": "d921cba1",
   "metadata": {},
   "source": [
    "## การเข้าถึงข้อมูลประเภทลิสต์ List\n",
    "\n",
    "เราสามารถเข้าถึงข้อมูล (Member) แต่ละตัวใน List ได้โดยการอ้างอิงหมายเลขอินเด็กซ์ไว้ภายในเครื่องหมาย [] โดยหมายเลขอินเด็กซ์จะเริ่มต้นที่ 0\n",
    "\n",
    "<img src=https://techcafe4u.in/wp-content/uploads/2019/11/python-list-index.png style=\"width:400px;\"/>\n",
    "\n",
    "การระบุหมายเลขอินเด็กซ์ด้วยค่าตัวเลขที่ติดลบ จะหมายถึงการเริ่มต้นอินเด็กซ์จากข้อมูลตัวท้ายสุด \n",
    "คือเริ่มนับจากด้านหลังนั่นเอง\n"
   ]
  },
  {
   "cell_type": "code",
   "execution_count": 10,
   "id": "ba0641c9",
   "metadata": {},
   "outputs": [
    {
     "name": "stdout",
     "output_type": "stream",
     "text": [
      "3\n"
     ]
    }
   ],
   "source": [
    "print(len(x[2]))"
   ]
  },
  {
   "cell_type": "code",
   "execution_count": 11,
   "id": "a8f94dea",
   "metadata": {},
   "outputs": [
    {
     "name": "stdout",
     "output_type": "stream",
     "text": [
      "Java\n"
     ]
    }
   ],
   "source": [
    "print(list2[3])"
   ]
  },
  {
   "cell_type": "code",
   "execution_count": null,
   "id": "b77addc8",
   "metadata": {},
   "outputs": [],
   "source": [
    "print(x[-2])"
   ]
  },
  {
   "cell_type": "code",
   "execution_count": null,
   "id": "6d4aa7f4",
   "metadata": {},
   "outputs": [],
   "source": [
    "#แต่ถ้าหากระบุตัวเลขเกินจำนวนสมาชิกก็จะ error ขึ้นมาทันที\n",
    "print(x[10])"
   ]
  },
  {
   "cell_type": "code",
   "execution_count": null,
   "id": "5ab30d83",
   "metadata": {},
   "outputs": [],
   "source": [
    "print(x[2.0])"
   ]
  },
  {
   "cell_type": "markdown",
   "id": "67ebc399",
   "metadata": {},
   "source": [
    "## การเรียกใช้และเปลี่ยนแปลงข้อมูลใน list\n",
    "\n",
    "วงเล็บเหลี่ยมตอนที่อ้างอิงถึงสมาชิก กับวงเล็บเหลี่ยมตอนที่สร้างลิสต์    \n",
    "ถือเป็นคนละส่วนกันต้องไม่สับสน\n",
    "\n",
    "หากต้องการแก้ไขข้อมูลก็สามารถทำได้โดยใช้ = เพื่อใส่ค่าใหม่ให้ทันที"
   ]
  },
  {
   "cell_type": "code",
   "execution_count": null,
   "id": "4b363af4",
   "metadata": {},
   "outputs": [],
   "source": [
    "y = [1,2,3,4,5]\n",
    "y[1] = 6\n",
    "print(y)"
   ]
  },
  {
   "cell_type": "markdown",
   "id": "55733efa",
   "metadata": {},
   "source": [
    "### การเข้าถึงสมาชิกทีละหลายตัว\n",
    "\n",
    "สามารถเข้าถึงสมาชิกข้อมูลใน List โดยการระบุดินเด็กซ์เป็นช่วงตัวเลขได้   \n",
    "โดยใช้โคลอน : \n",
    "\n",
    "หากใส่ตัวเลขไว้หน้า : จะหมายความว่าเอาสมาชิกไล่ตั้งแต่ลำดับของเลขนั้นไปจนถึงท้ายลิสต์  \n",
    "หากใส่ตัวเลขวางไว้หลัง : จะหมายความว่าเอาสมาชิกไล่ตั้งแต่ 0 ไปจนถึง**ก่อน**เลขนั้น  \n",
    "แต่ถ้าใส่เลขทั้งหน้าและหลัง : จะหมายความว่าเอาสมาชิกตั้งแต่เลขตัวซ้าย ไปจนถึง**ก่อน**เลขตัวขวา"
   ]
  },
  {
   "cell_type": "code",
   "execution_count": null,
   "id": "aff0f51d",
   "metadata": {},
   "outputs": [],
   "source": [
    "L = ['a','b','c','d','e','f','g','h','i']\n",
    "print(L[2:])\n",
    "print(L[:7])\n",
    "print(L[2:7])"
   ]
  },
  {
   "cell_type": "code",
   "execution_count": null,
   "id": "7261e307",
   "metadata": {},
   "outputs": [],
   "source": [
    "print(L[-4:-1])"
   ]
  },
  {
   "cell_type": "code",
   "execution_count": null,
   "id": "617aea37",
   "metadata": {},
   "outputs": [],
   "source": [
    "print(L[0:7:2])"
   ]
  },
  {
   "cell_type": "code",
   "execution_count": null,
   "id": "aacf0e00",
   "metadata": {},
   "outputs": [],
   "source": [
    "print(L[::-2])"
   ]
  },
  {
   "cell_type": "code",
   "execution_count": null,
   "id": "971078df",
   "metadata": {},
   "outputs": [],
   "source": [
    "#เปลี่ยนข้อมูลในลิสต์หลายตัว\n",
    "print(L)\n",
    "L[3:5] = [2,3]\n",
    "print(L)"
   ]
  },
  {
   "cell_type": "markdown",
   "id": "4f43c9d8",
   "metadata": {},
   "source": [
    "### การเพิ่มสมาชิกใน List\n",
    "\n",
    "เราสามารถเพิ่มข้อมูลหรือสมาชิกใหม่เข้าไปใน List ได้ โดยใช้เมธอด append()   \n",
    "โดยข้อมูลที่เพิ่มเข้าไปใหม่จะถูกเพิ่มต่อท้ายข้อมูลลำดับสุดท้ายในลิสต์"
   ]
  },
  {
   "cell_type": "code",
   "execution_count": 2,
   "id": "122b7c10",
   "metadata": {},
   "outputs": [],
   "source": [
    "color = ['Red','Blue','Green','Black']"
   ]
  },
  {
   "cell_type": "code",
   "execution_count": 3,
   "id": "5d412d63",
   "metadata": {},
   "outputs": [
    {
     "name": "stdout",
     "output_type": "stream",
     "text": [
      "['Red', 'Blue', 'Green', 'Black', 'Yellow']\n"
     ]
    }
   ],
   "source": [
    "color.append('Yellow')\n",
    "print(color)"
   ]
  },
  {
   "cell_type": "markdown",
   "id": "e377c138",
   "metadata": {},
   "source": [
    "ถ้าต้องการแทรกข้อมูลใหม่เข้าไปในลิสต์โดยการระบุตำแหน่งอินเด็กซ์  \n",
    "สามารถทำได้โดยการใช้เมธอด insert() โดยมีรูปแบบการใช้งานดังนี้\n",
    "\n",
    "```python\n",
    "insert(index, data)\n",
    "```\n",
    "\n",
    "* index คือตำแหน่งที่ต้องการแทรกข้อมูลในลิสต์\n",
    "* data คือข้อมูลที่ต้องการแทรกในลิสต์"
   ]
  },
  {
   "cell_type": "code",
   "execution_count": 4,
   "id": "a1b97517",
   "metadata": {},
   "outputs": [
    {
     "name": "stdout",
     "output_type": "stream",
     "text": [
      "['Red', 'Orange', 'Blue', 'Green', 'Black', 'Yellow']\n"
     ]
    }
   ],
   "source": [
    "color.insert(1,'Orange')\n",
    "print(color)"
   ]
  },
  {
   "cell_type": "code",
   "execution_count": null,
   "id": "8fef6834",
   "metadata": {},
   "outputs": [],
   "source": [
    "#สามารถลบข้อมูลออกจากลิสต์โดยใช้เมธอด remove() โดยระบุข้อมูลที่ต้องการลบ\n",
    "color.remove('Green')\n",
    "print(color)"
   ]
  },
  {
   "cell_type": "code",
   "execution_count": null,
   "id": "0918ce77",
   "metadata": {},
   "outputs": [],
   "source": [
    "#ใช้เมธอด pop() โดยระบุอินเด็กซ์ที่ต้องการลบ \n",
    "color.pop(1)\n",
    "print(color)"
   ]
  },
  {
   "cell_type": "code",
   "execution_count": null,
   "id": "3e17ba83",
   "metadata": {},
   "outputs": [],
   "source": [
    "#เมธอด pop() แบบไม่ระบุอินเด็กซ์ จะลบตัวสุดท้าย\n",
    "color.pop()\n",
    "print(color)"
   ]
  },
  {
   "cell_type": "code",
   "execution_count": null,
   "id": "c995bbd0",
   "metadata": {},
   "outputs": [],
   "source": [
    "#ใช้คีย์เวิร์ด del ลบข้อมูลที่ต้องการออกจาก List โดยระบุอินเด็กซ์ข้อมูลที่ต้องการลบ\n",
    "del color[1]\n",
    "print(color)"
   ]
  },
  {
   "cell_type": "code",
   "execution_count": null,
   "id": "f4ff9520",
   "metadata": {},
   "outputs": [],
   "source": [
    "#ลบข้อมูลทั้งหมดในลิสต์ด้วยเมธอด clear() ซึ่งจะเป็นการลบสมาชิกทั้งหมดในลิสต์\n",
    "color.clear()\n",
    "print(color)"
   ]
  },
  {
   "cell_type": "code",
   "execution_count": null,
   "id": "2316a244",
   "metadata": {},
   "outputs": [],
   "source": [
    "#สามารถลบข้อมูล List ทิ้ง โดยการใช้คีย์เวิร์ด del ตามด้วยชื่อตัวแปรที่ต้องการลบ\n",
    "del color\n",
    "print(color)"
   ]
  },
  {
   "cell_type": "markdown",
   "id": "688e792f",
   "metadata": {},
   "source": [
    "### ลิสต์ซ้อนลิสต์ \n",
    "\n",
    "สมาชิกของลิสต์อาจประกอบไปด้วยลิสต์ซ้อนอยู่ภายในก็ได้  \n",
    "การเข้าถึงสมาชิกของลิสต์ในลิสต์ทำได้โดยการเขียนวงเล็บเหลี่ยมต่อกัน"
   ]
  },
  {
   "cell_type": "code",
   "execution_count": null,
   "id": "d0801399",
   "metadata": {},
   "outputs": [],
   "source": [
    "mylist = ['a', 'b', ['cc', 'dd', ['eee', 'fff']], 'g', 'h']"
   ]
  },
  {
   "cell_type": "code",
   "execution_count": null,
   "id": "93a79a5f",
   "metadata": {},
   "outputs": [],
   "source": [
    "print(len(mylist))"
   ]
  },
  {
   "cell_type": "code",
   "execution_count": null,
   "id": "6fd8b5ff",
   "metadata": {},
   "outputs": [],
   "source": [
    "print(mylist[2])\n",
    "print(mylist[2][2])\n",
    "print(mylist[2][2][0])"
   ]
  },
  {
   "cell_type": "code",
   "execution_count": null,
   "id": "0e5240e4",
   "metadata": {},
   "outputs": [],
   "source": [
    "print(mylist[-3])\n",
    "print(mylist[-3][-1])\n",
    "print(mylist[-3][-1][-2])"
   ]
  },
  {
   "cell_type": "code",
   "execution_count": null,
   "id": "9b9b0246",
   "metadata": {},
   "outputs": [],
   "source": [
    "#สามารถรวมลิสต์หลาย ๆ ลิสต์เข้าด้วยกันได้ วิธีที่ง่ายที่สุดคือการใช้โอเปอเรเตอร์ +\n",
    "mylist = [\"One\", \"Two\", \"Three\"]\n",
    "yourlist = [\"Four\", \"Five\", \"Six\", \"Seven\"]\n",
    "\n",
    "ourlist = mylist + yourlist\n",
    "print(ourlist)"
   ]
  },
  {
   "cell_type": "code",
   "execution_count": null,
   "id": "434fe6d9",
   "metadata": {},
   "outputs": [],
   "source": []
  }
 ],
 "metadata": {
  "kernelspec": {
   "display_name": "Python 3",
   "language": "python",
   "name": "python3"
  },
  "language_info": {
   "codemirror_mode": {
    "name": "ipython",
    "version": 3
   },
   "file_extension": ".py",
   "mimetype": "text/x-python",
   "name": "python",
   "nbconvert_exporter": "python",
   "pygments_lexer": "ipython3",
   "version": "3.8.8"
  }
 },
 "nbformat": 4,
 "nbformat_minor": 5
}
