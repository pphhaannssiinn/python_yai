{
 "cells": [
  {
   "cell_type": "markdown",
   "id": "2b4d7e32",
   "metadata": {},
   "source": [
    "# แบบฝึกปฏิบัติครั้งที่7 การเขียนโปรแกรมโดยใช้ข้อมูลลิสต์"
   ]
  },
  {
   "cell_type": "markdown",
   "id": "52211f77",
   "metadata": {},
   "source": [
    "# 1. จากโค้ดโปรแกรมต่อไปนี้"
   ]
  },
  {
   "cell_type": "code",
   "execution_count": 2,
   "id": "51553a40",
   "metadata": {},
   "outputs": [
    {
     "name": "stdout",
     "output_type": "stream",
     "text": [
      "1\n",
      "3\n",
      "5\n",
      "7\n",
      "9\n"
     ]
    }
   ],
   "source": [
    "list = [1 , 3, 5, 7, 9]\n",
    "for i in range ( len ( list )):\n",
    "    print ( list [i ])"
   ]
  },
  {
   "cell_type": "markdown",
   "id": "ed8dcf29",
   "metadata": {},
   "source": [
    "(1) อธิบายว่าผลลัพธ์ของโปรแกรมเป็นแบบใด\n",
    "\n",
    "(2) ตัวแปร i เป็นตัวแปรสำหรับอะไร index\n",
    "\n",
    "(3) ให้เขียนโปรแกรมที่ให้ผลลัพธ์เหมือนกัน โดยใช้คำสั่ง while แทน for"
   ]
  },
  {
   "cell_type": "code",
   "execution_count": 1,
   "id": "79c36e17",
   "metadata": {},
   "outputs": [
    {
     "name": "stdout",
     "output_type": "stream",
     "text": [
      "1\n",
      "3\n",
      "5\n",
      "7\n",
      "9\n"
     ]
    }
   ],
   "source": [
    "list = [1 , 3, 5, 7, 9]\n",
    "i=0\n",
    "while i<len(list):\n",
    "    print(list[i ])\n",
    "    i+=1"
   ]
  },
  {
   "cell_type": "markdown",
   "id": "12153229",
   "metadata": {},
   "source": [
    "# 2. จากโค้ดโปรแกรมต่อไปนี้"
   ]
  },
  {
   "cell_type": "code",
   "execution_count": 2,
   "id": "f77475b0",
   "metadata": {},
   "outputs": [
    {
     "name": "stdout",
     "output_type": "stream",
     "text": [
      " Output List =  [1.0]\n",
      " Output List =  [1.0, 1.4142135623730951]\n",
      " Output List =  [1.0, 1.4142135623730951, 1.7320508075688772]\n",
      " Output List =  [1.0, 1.4142135623730951, 1.7320508075688772, 2.0]\n",
      " Output List =  [1.0, 1.4142135623730951, 1.7320508075688772, 2.0, 2.23606797749979]\n",
      " Output List =  [1.0, 1.4142135623730951, 1.7320508075688772, 2.0, 2.23606797749979, 2.449489742783178]\n",
      " Output List =  [1.0, 1.4142135623730951, 1.7320508075688772, 2.0, 2.23606797749979, 2.449489742783178, 2.6457513110645907]\n",
      " Output List =  [1.0, 1.4142135623730951, 1.7320508075688772, 2.0, 2.23606797749979, 2.449489742783178, 2.6457513110645907, 2.8284271247461903]\n",
      " Output List =  [1.0, 1.4142135623730951, 1.7320508075688772, 2.0, 2.23606797749979, 2.449489742783178, 2.6457513110645907, 2.8284271247461903, 3.0]\n"
     ]
    }
   ],
   "source": [
    "output_list = []\n",
    "for var in range (1 , 10):\n",
    "    output_list . append ( var **0.5)\n",
    "    print (\" Output List = \", output_list )"
   ]
  },
  {
   "cell_type": "markdown",
   "id": "e0b24204",
   "metadata": {},
   "source": [
    "(1) อธิบายถึงผลลัพธ์ของโปรแกรม ว่ามีวิธีการแสดงผลลัพธ์อย่างไร\n",
    " เริ่มแสดงผลตำแหน่งที่ยกกำลัง 0.5 ได้ 1 และนำ 1 ยกกำลัง 0.5 แล้วเอาไปใส่ในตำแหน่งที่ 2 แบบนี้ไปเรื่อยๆ จนถึงตัวที่ 9"
   ]
  },
  {
   "cell_type": "markdown",
   "id": "9989b327",
   "metadata": {},
   "source": [
    "(2) เขียนโค้ดโปรแกรมที่ให้ผลลัพธ์เหมือนกันโดยใช้List Comprehensions"
   ]
  },
  {
   "cell_type": "code",
   "execution_count": 3,
   "id": "920518a5",
   "metadata": {},
   "outputs": [
    {
     "name": "stdout",
     "output_type": "stream",
     "text": [
      "[1.0, 1.4142135623730951, 1.7320508075688772, 2.0, 2.23606797749979, 2.449489742783178, 2.6457513110645907, 2.8284271247461903, 3.0]\n"
     ]
    }
   ],
   "source": [
    "output_list=[var**0.5  for var in range(1,10)]\n",
    "print(output_list)"
   ]
  },
  {
   "cell_type": "markdown",
   "id": "48f0f122",
   "metadata": {},
   "source": [
    "# 3. จากโค้ดโปรแกรมต่อไปนี้"
   ]
  },
  {
   "cell_type": "code",
   "execution_count": 4,
   "id": "7e4e548a",
   "metadata": {},
   "outputs": [
    {
     "name": "stdout",
     "output_type": "stream",
     "text": [
      " Output List :  [2, 4, 4, 6]\n"
     ]
    }
   ],
   "source": [
    "ilist = [1 , 2, 3, 4, 4, 5, 6, 7, 7]\n",
    "olist = []\n",
    "for var in ilist :\n",
    "    if var % 2 == 0:\n",
    "        olist . append ( var )\n",
    "print (\" Output List : \", olist )"
   ]
  },
  {
   "cell_type": "markdown",
   "id": "6a7253a7",
   "metadata": {},
   "source": [
    "(1) อธิบายถึงผลลัพธ์ของโปรแกรมว่าเป็นอย่างไร เลือกข้อมูลตัวเลขที่หาร 2 ลงตัวแล้วนำมาใส่ในข้อมูล list ใหม่ก็จะได้ 2,4,4,6"
   ]
  },
  {
   "cell_type": "markdown",
   "id": "e2ad5439",
   "metadata": {},
   "source": [
    "(2) เขียนโค้ดโปรแกรมที่ให้ผลลัพธ์เหมือนกันโดยใช้List Comprehensions"
   ]
  },
  {
   "cell_type": "code",
   "execution_count": 5,
   "id": "5812e961",
   "metadata": {},
   "outputs": [
    {
     "name": "stdout",
     "output_type": "stream",
     "text": [
      "Output list :  [2, 4, 4, 6]\n"
     ]
    }
   ],
   "source": [
    "olist=[var for var in ilist if var%2==0]\n",
    "print(\"Output list : \",olist)"
   ]
  },
  {
   "cell_type": "markdown",
   "id": "de6462b5",
   "metadata": {},
   "source": [
    "# 4. จากโค้ดโปรแกรมต่อไปนี้"
   ]
  },
  {
   "cell_type": "code",
   "execution_count": 6,
   "id": "67597af7",
   "metadata": {},
   "outputs": [
    {
     "name": "stdout",
     "output_type": "stream",
     "text": [
      "['Li F ', 'Li Cl ', 'Li Br ', 'Na F ', 'Na Cl ', 'Na Br ', 'K F ', 'K Cl ', 'K Br ']\n"
     ]
    }
   ],
   "source": [
    "outer = ['Li ', 'Na ', 'K ']\n",
    "inner = ['F ', 'Cl ', 'Br ']\n",
    "chemi = []\n",
    "for metal in outer :\n",
    "    for halogen in inner :\n",
    "        chemi . append ( metal + halogen )\n",
    "print ( chemi )"
   ]
  },
  {
   "cell_type": "markdown",
   "id": "653fb83d",
   "metadata": {},
   "source": [
    "(1) อธิบายถึงผลลัพธ์ของโปรแกรม ว่าผลลัพธ์เป็นอย่างไร เป็นการนำข้อมูลในลิต inner ไปต่อวนลูปต่อข้อมูลลิต outer ดังนี้ ['Li F ', 'Li Cl ', 'Li Br ', 'Na F ', 'Na Cl ', 'Na Br ', 'K F ', 'K Cl ', 'K Br ']"
   ]
  },
  {
   "cell_type": "markdown",
   "id": "3e55b7db",
   "metadata": {},
   "source": [
    "(2) เขียนโค้ดโปรแกรมที่ให้ผลลัพธ์เหมือนกันโดยใช้List Comprehensions"
   ]
  },
  {
   "cell_type": "code",
   "execution_count": 9,
   "id": "2a00d3ee",
   "metadata": {},
   "outputs": [
    {
     "name": "stdout",
     "output_type": "stream",
     "text": [
      "['Li F', 'Li Cl', 'Li Br', 'Na F', 'Na Cl', 'Na Br', 'K F', 'K Cl', 'K Br']\n"
     ]
    }
   ],
   "source": [
    "outer=['Li ','Na ','K ']\n",
    "inner=['F','Cl','Br']\n",
    "chemi=[(metal+halogen) for metal in outer for halogen in inner]\n",
    "print(chemi)"
   ]
  },
  {
   "cell_type": "markdown",
   "id": "a7f12473",
   "metadata": {},
   "source": [
    "# 5. จากโค้ดโปรแกรมต่อไปนี้\n"
   ]
  },
  {
   "cell_type": "code",
   "execution_count": 10,
   "id": "f506ea7b",
   "metadata": {},
   "outputs": [
    {
     "name": "stdout",
     "output_type": "stream",
     "text": [
      "[1, 4, 9, 16, 25, 36, 49, 64, 81, 100]\n"
     ]
    }
   ],
   "source": [
    "a=[]\n",
    "for i in range (1 ,101):\n",
    "    if int (i **0.5) == i **0.5:\n",
    "        a.append (i)\n",
    "print (a)"
   ]
  },
  {
   "cell_type": "markdown",
   "id": "1dd30c37",
   "metadata": {},
   "source": [
    "(1) อธิบายถึงผลลัพธ์ของโปรแกรม ว่าผลลัพธ์เป็นอย่างไร นำค่าในลิตยกกำลัง 0.r แล้วได้เป็นจำนวนเต็มให้นำค่านั้นเพิ่มลงในลิต"
   ]
  },
  {
   "cell_type": "markdown",
   "id": "66ae9461",
   "metadata": {},
   "source": [
    "(2) เขียนโค้ดโปรแกรมที่ให้ผลลัพธ์เหมือนกันโดยใช้List Comprehensions"
   ]
  },
  {
   "cell_type": "code",
   "execution_count": 11,
   "id": "b8a4f923",
   "metadata": {},
   "outputs": [
    {
     "name": "stdout",
     "output_type": "stream",
     "text": [
      "[1, 4, 9, 16, 25, 36, 49, 64, 81, 100]\n"
     ]
    }
   ],
   "source": [
    "a=[i for i in range(1,101) if int(i**0.5)==i**0.5]\n",
    "print(a)"
   ]
  },
  {
   "cell_type": "markdown",
   "id": "c562063e",
   "metadata": {},
   "source": [
    "# 6. จากโค้ดโปรแกรมหาค่าฐานนิยม (mode) ของจำนวนเลขที่ป้อน"
   ]
  },
  {
   "cell_type": "raw",
   "id": "4be3f158",
   "metadata": {},
   "source": [
    "n=int(input(\"Enter the number of data : \"))\n",
    "data=[]\n",
    "for i in range(n):\n",
    "    x=float(input(\" > >\"))\n",
    "    data.append(x)\n",
    "counts=[0]*n\n",
    "for i _______ (a) _______ :\n",
    "    for j _______ (b) _______ :\n",
    "        if data [i] == data [j] :\n",
    "            counts [i] += 1\n",
    "maxI = 0\n",
    "for _______ (c) _______ :\n",
    "    if counts [ maxI ] < counts [i ]:\n",
    "        maxI = i\n",
    "print (\" mode =\" , data [ maxI ])"
   ]
  },
  {
   "cell_type": "markdown",
   "id": "12ff1711",
   "metadata": {},
   "source": [
    "(1) ให้นับจำนวน data[i] ว่ามีกี่ค่า แล้วเก็บจำนวนไว้ใน counts[i]\n",
    "    จะเขียนโค้ดในช่อง (a) อย่างไร in range(n)\n",
    "    และจะเขียนโค้ดในช่อง (b) อย่างไร in range(n)"
   ]
  },
  {
   "cell_type": "code",
   "execution_count": 1,
   "id": "7d0b279e",
   "metadata": {},
   "outputs": [
    {
     "name": "stdout",
     "output_type": "stream",
     "text": [
      "Enter the number of data : 5\n",
      " > > 3\n",
      " > > 5\n",
      " > > 5\n",
      " > > 1\n",
      " > > 4\n",
      "Mode =  5.0\n"
     ]
    }
   ],
   "source": [
    "n=int(input(\"Enter the number of data : \"))\n",
    "data=[]\n",
    "for i in range(n):\n",
    "    x=float(input(\" > > \"))\n",
    "    data.append(x)\n",
    "counts=[0]*n\n",
    "for i in range(n):\n",
    "    for j in range(n):\n",
    "        if data[i]==data[j]:\n",
    "            counts[i]+=1\n",
    "maxI=0\n",
    "for i in range(n):\n",
    "    if counts[maxI]<counts[i]:\n",
    "        maxI=i\n",
    "print(\"Mode = \",data[maxI])"
   ]
  },
  {
   "cell_type": "markdown",
   "id": "76712e0a",
   "metadata": {},
   "source": [
    "(2) หาหมายเลขช่องของ counts ที่เก็บค่ามากสุด จะเขียนโค้ดในช่อง (c) อย่างไร i in range(n)"
   ]
  },
  {
   "cell_type": "markdown",
   "id": "56ce47d5",
   "metadata": {},
   "source": [
    "# 7. เขียนโค้ดโปรแกรมบน jupyter notebook แล้วส่งเป็นไฟล์html ใน assignment"
   ]
  },
  {
   "cell_type": "raw",
   "id": "b36b7956",
   "metadata": {},
   "source": [
    "(1) กำหนดให้ whales = [5, 4, 7, 3, 2, 3, 2, 6, 4, 2, 1, 7, 1, 3]\n",
    "    ให้หาค่า more = whales + 2 ของทุกค่า\n",
    "    โดยคำตอบที่ได้จะเป็น [7, 6, 9, 5, 4, 5, 4, 8, 6, 4, 3, 9, 3, 5]"
   ]
  },
  {
   "cell_type": "code",
   "execution_count": 14,
   "id": "cb467f9e",
   "metadata": {},
   "outputs": [
    {
     "name": "stdout",
     "output_type": "stream",
     "text": [
      "[7, 6, 9, 5, 4, 5, 4, 8, 6, 4, 3, 9, 3, 5]\n"
     ]
    }
   ],
   "source": [
    "whales = [5, 4, 7, 3, 2, 3, 2, 6, 4, 2, 1, 7, 1, 3]\n",
    "more=[i+2 for i in whales]\n",
    "print(more)"
   ]
  },
  {
   "cell_type": "raw",
   "id": "f4b78505",
   "metadata": {},
   "source": [
    "(2) หาผลรวมของตัวเลขในตัวแปร pops = [1295, 23, 7, 3, 47, 21]"
   ]
  },
  {
   "cell_type": "code",
   "execution_count": 15,
   "id": "b77a0564",
   "metadata": {},
   "outputs": [
    {
     "name": "stdout",
     "output_type": "stream",
     "text": [
      "1396\n"
     ]
    }
   ],
   "source": [
    "pops = [1295, 23, 7, 3, 47, 21]\n",
    "sumpops=0\n",
    "for i in pops:\n",
    "    sumpops+=i\n",
    "print(sumpops)"
   ]
  },
  {
   "cell_type": "raw",
   "id": "9c555f58",
   "metadata": {},
   "source": [
    "(3) จาก list1 = [\"Hello \", \"take \"] และ list2 = [\"Dear\", \"Sir\"] ต้องการผลลัพธ์เป็น\n",
    "['Hello Dear', 'Hello Sir', 'take Dear', 'take Sir']"
   ]
  },
  {
   "cell_type": "code",
   "execution_count": 16,
   "id": "e329683b",
   "metadata": {},
   "outputs": [
    {
     "name": "stdout",
     "output_type": "stream",
     "text": [
      "['Hello Dear', 'Hello Sir', 'take Dear', 'take Sir']\n"
     ]
    }
   ],
   "source": [
    "list1 = [\"Hello \", \"take \"]\n",
    "list2=[\"Dear\", \"Sir\"]\n",
    "lst=[(lst1+lst2) for lst1 in list1 for lst2 in list2]\n",
    "print(lst)"
   ]
  },
  {
   "cell_type": "raw",
   "id": "fd3eb589",
   "metadata": {},
   "source": [
    "(4) จาก list = [5, 20, 15, 20, 25, 50, 20] ต้องการผลลัพธ์เป็น [5, 15, 25, 50] เขียน\n",
    "โดยใช้List Comprehensions อย่างไร"
   ]
  },
  {
   "cell_type": "code",
   "execution_count": 17,
   "id": "0c9beb01",
   "metadata": {},
   "outputs": [
    {
     "name": "stdout",
     "output_type": "stream",
     "text": [
      "[5, 15, 25, 50]\n"
     ]
    }
   ],
   "source": [
    "list = [5, 20, 15, 20, 25, 50, 20]\n",
    "result=[lst for lst in list if lst!=20]\n",
    "print(result)"
   ]
  },
  {
   "cell_type": "raw",
   "id": "e0287445",
   "metadata": {},
   "source": [
    "(5) ให้เขียนโค้ดโดยใช้ List Comprehensions แปลงค่าอุณหภูมิจากองศาองศาฟาเรนไฮต์เป็น\n",
    "องศาเซลเซียส\n",
    "ข้อมูลรับเข้า ลิสต์ขององศาฟาเรนไฮต์ที่มีช่วงอุณหภูมิ-20 F ถึง 20 F เพิ่มขึ้นทีละ 5 F\n",
    "ข้อมูลส่งออก ลิสต์ขององศาเซลเซียส มีทศนิยม 2 ตำแหน่ง"
   ]
  },
  {
   "cell_type": "code",
   "execution_count": 18,
   "id": "4df281b2",
   "metadata": {},
   "outputs": [
    {
     "name": "stdout",
     "output_type": "stream",
     "text": [
      "['-28.89', '-26.11', '-23.33', '-20.56', '-17.78', '-15.00', '-12.22', '-9.44', '-6.67']\n"
     ]
    }
   ],
   "source": [
    "f_in=[-20,-15,-10,-5,0,5,10,15,20]\n",
    "c_out=[\"%.2f\" %(((c-32)*5)/9) for c in f_in]\n",
    "print(c_out)"
   ]
  },
  {
   "cell_type": "code",
   "execution_count": null,
   "id": "0c93f5da",
   "metadata": {},
   "outputs": [],
   "source": []
  }
 ],
 "metadata": {
  "kernelspec": {
   "display_name": "Python 3",
   "language": "python",
   "name": "python3"
  },
  "language_info": {
   "codemirror_mode": {
    "name": "ipython",
    "version": 3
   },
   "file_extension": ".py",
   "mimetype": "text/x-python",
   "name": "python",
   "nbconvert_exporter": "python",
   "pygments_lexer": "ipython3",
   "version": "3.8.8"
  }
 },
 "nbformat": 4,
 "nbformat_minor": 5
}
