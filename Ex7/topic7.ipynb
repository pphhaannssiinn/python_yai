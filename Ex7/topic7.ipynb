{
 "cells": [
  {
   "cell_type": "markdown",
   "id": "2a059df4",
   "metadata": {},
   "source": [
    "# การเขียนโปรแกรมร่วมกับข้อมูลลิสต์\n",
    "\n",
    "### เขียนโปรแกรมโดยใช้ loop"
   ]
  },
  {
   "cell_type": "code",
   "execution_count": 1,
   "id": "e1449829",
   "metadata": {},
   "outputs": [
    {
     "name": "stdout",
     "output_type": "stream",
     "text": [
      "buzz\n",
      "baz\n",
      "fizz\n"
     ]
    }
   ],
   "source": [
    "#while loop\n",
    "a = [\"fizz\", \"baz\", \"buzz\"]\n",
    "while a:\n",
    "    print(a.pop(-1))"
   ]
  },
  {
   "cell_type": "code",
   "execution_count": 1,
   "id": "77e73435",
   "metadata": {},
   "outputs": [
    {
     "name": "stdout",
     "output_type": "stream",
     "text": [
      "pineapple มี 9 ตัว\n",
      "banana มี 6 ตัว\n",
      "watermelon มี 10 ตัว\n",
      "mango มี 5 ตัว\n"
     ]
    }
   ],
   "source": [
    "# ต้องการทราบว่าแต่ละคำมีกี่ตัวอักษร\n",
    "myList = ['pineapple', 'banana', 'watermelon', 'mango']\n",
    "\n",
    "index = 0\n",
    "while index < len(myList):\n",
    "    element = myList[index]\n",
    "    print(f\"{element} มี {len(element)} ตัว\")\n",
    "    index += 1"
   ]
  },
  {
   "cell_type": "code",
   "execution_count": null,
   "id": "80009a86",
   "metadata": {},
   "outputs": [],
   "source": [
    "#for loop ตัวอย่างต้องการลิสต์ชุดตัวเลขยกกำลังสองของเลข 0 ถึง 9 \n",
    "square = []\n",
    "for i in range(0,10):\n",
    "    square.append(i**2)\n",
    "print(square)"
   ]
  },
  {
   "cell_type": "code",
   "execution_count": null,
   "id": "9cee36a7",
   "metadata": {},
   "outputs": [],
   "source": [
    "#ต้องการช้อมูลลิสต์กำลังสองของตัวเลขเฉพาะเลขคี่\n",
    "squ = []\n",
    "for i in range(0,10):\n",
    "    if i%2 != 0:\n",
    "        squ.append(i**2)\n",
    "print(squ)"
   ]
  },
  {
   "cell_type": "code",
   "execution_count": null,
   "id": "6c36bd0c",
   "metadata": {},
   "outputs": [],
   "source": [
    "#ตัวอย่าง\n",
    "n = int(input('จำนวนที่ต้องการหาค่า: '))\n",
    "data = []\n",
    "for i in range(n):\n",
    "    x = float(input(f'ป้อนค่า {i+1} = '))\n",
    "    data.append(x)\n",
    "#หาค่าเฉลี่ย\n",
    "sum_n = 0\n",
    "for x in data:\n",
    "    sum_n += x\n",
    "avg_n = sum_n / n\n",
    "#หาค่าเบี่ยงเบนมาตรฐาน\n",
    "sum_2 = 0\n",
    "for x in data:\n",
    "    sum_2 += (x-avg_n)**2\n",
    "sd = (sum_2/n)**0.5\n",
    "\n",
    "print(f'ค่าเฉลี่ย = {avg_n:.2f}, ค่าเบี่ยงเบนมาตรฐาน = {sd:.2f}')"
   ]
  },
  {
   "cell_type": "code",
   "execution_count": null,
   "id": "c025d5fd",
   "metadata": {},
   "outputs": [],
   "source": [
    "#หาค่าสูงสุดและต่ำสุดของข้อมูลลิสต์\n",
    "#ให้คิดถึงการเก็บก้อนหินใส่กระเป๋า โดยใส่ได้แค่ก้อนเดียว\n",
    "#ไปเจอก้อนหินก้อนใหม่ที่ใหญ่กว่าก็ทิ้งก้อนเก่า ถ้าเจอก้อนที่เล็กกว่าก็ข้ามไปไม่เก็บ\n",
    "rock = [50.9,89.3,62.7,101.2,70.4,129.3,94.9]\n",
    "mmax = rock[0] #น้ำหนักเริ่มต้น\n",
    "i = 0 #ลำดับเริ่มต้น\n",
    "for m in rock: \n",
    "    if (m > mmax): #ถ้าค่ามากกว่าค่าที่เก็บ\n",
    "        mmax = m   #เก็บเป็นค่าสูงสุด\n",
    "        imax = i   #เปลี่ยนลำดับ\n",
    "    i += 1\n",
    "print(f'ก้อนหินลำดับที่ {imax} หนักที่สุดมีน้ำหนัก {mmax:.1f}')"
   ]
  },
  {
   "cell_type": "markdown",
   "id": "7649485c",
   "metadata": {},
   "source": [
    "## List Comprehension\n",
    "\n",
    "List Comprehension คือการสร้าง list ใหม่จากการใช้ for loop ได้\n",
    "\n",
    "ส่วนประกอบของ List Comprehension โครงสร้างจะคล้าย ๆ กับการนิยามของ Set ในทางคณิตศาสตร์ คือ มีส่วนกำหนดความสัมพันธ์ ระหว่างค่าที่เอามาจาก List อื่น และส่วนที่บอกว่าค่าที่เอามาใช้เอามาจาก List อะไร\n",
    "\n",
    "<img src= https://python-3-patterns-idioms-test.readthedocs.io/en/latest/_images/listComprehensions.gif style=\"width:400px;\"/>"
   ]
  },
  {
   "cell_type": "code",
   "execution_count": null,
   "id": "920cd97b",
   "metadata": {},
   "outputs": [],
   "source": [
    "#ตัวอย่างต้องการชุดตัวเลขยกกำลังสองของเลข 0 ถึง 9 \n",
    "sq = [i**2 for i in range(0,10)]\n",
    "print(sq)"
   ]
  },
  {
   "cell_type": "code",
   "execution_count": null,
   "id": "e8dc241b",
   "metadata": {},
   "outputs": [],
   "source": [
    "sq2 = [i**2 for i in range(0,10) if i%2 != 0]\n",
    "print(sq2)"
   ]
  },
  {
   "cell_type": "markdown",
   "id": "93fc8949",
   "metadata": {},
   "source": [
    "### nested list comprehensions\n",
    "\n",
    "การสร้างลิสต์อาจใช้ for มากกว่าหนึ่งด้วย ซึ่งในกรณีนั้นจะเกิดผลลัพธ์เป็นสมาชิกในลิสต์จำนวนมากมายเท่ากับจำนวนของสมาชิกในลิสต์ที่นำมาใช้เป็นฐานคูณกัน\n",
    "\n",
    "<img src=https://miro.medium.com/max/686/1*rN2aisbM6eEXVQ96GjojGA.png style=\"width:400px;\"/>\n",
    "\n",
    "การไล่วนซ้ำจะเริ่มจาก for ที่อยู่ทางขวา แล้วค่อยตามด้วย for ตัวซ้าย"
   ]
  },
  {
   "cell_type": "code",
   "execution_count": null,
   "id": "349350ad",
   "metadata": {},
   "outputs": [],
   "source": [
    "mat1 = [col for col in range(3) for row in range(3)]\n",
    "print(mat1)"
   ]
  },
  {
   "cell_type": "code",
   "execution_count": null,
   "id": "7a5c8cdd",
   "metadata": {},
   "outputs": [],
   "source": [
    "mat2 = [[col for col in range(5)] for row in range(5)]\n",
    "print(mat2)"
   ]
  },
  {
   "cell_type": "code",
   "execution_count": null,
   "id": "5d83180b",
   "metadata": {},
   "outputs": [],
   "source": [
    "mat3 =[[col,row] for col in range(2) for row in range(5,7)]\n",
    "print(mat3)"
   ]
  },
  {
   "cell_type": "code",
   "execution_count": null,
   "id": "5e7a91ec",
   "metadata": {},
   "outputs": [],
   "source": [
    "data1 = [x**2 - y**2 for x in range(3) for y in range(3)]\n",
    "print(data1)\n",
    "print(len(data1))"
   ]
  },
  {
   "cell_type": "code",
   "execution_count": null,
   "id": "60fbf2a9",
   "metadata": {},
   "outputs": [],
   "source": [
    "data2 = [x**2 - y**2 for x in range(3) for y in range(3) if (x**2-y**2) > 0]\n",
    "print(data2)"
   ]
  },
  {
   "cell_type": "code",
   "execution_count": null,
   "id": "0cd5402c",
   "metadata": {},
   "outputs": [],
   "source": [
    "#หาจำนวนเฉพาะ\n",
    "n = int(input('number = '))\n",
    "prime = [x for x in range(2,n) if all(x%y != 0 for y in range(2,x))]\n",
    "print(prime)"
   ]
  },
  {
   "cell_type": "markdown",
   "id": "ecac21dd",
   "metadata": {},
   "source": [
    "### ตัวแปรนอกและใน list comprehensions\n",
    "\n",
    "ในการสร้างลิสต์ด้วย list comprehensions ต้องมีตัวแปรหนึ่งเป็นตัวช่วยไล่ค่าในลิสต์  \n",
    "ตัวแปรนี้จะชื่ออะไรก็ได้ แม้ว่าจะมีชื่อที่ซ้ำกันกับชื่อตัวแปรที่มีอยู่เดิมก็ไม่มีผลอะไร"
   ]
  },
  {
   "cell_type": "code",
   "execution_count": null,
   "id": "47e315a9",
   "metadata": {},
   "outputs": [],
   "source": [
    "i = 1000\n",
    "x = [i for i in range(10)]\n",
    "print(i)"
   ]
  },
  {
   "cell_type": "code",
   "execution_count": null,
   "id": "533cd7bd",
   "metadata": {},
   "outputs": [],
   "source": [
    "#ตัวอย่างการเรียงลำดับลิสต์จากท้าย\n",
    "a = list('abcdef')\n",
    "b = []\n",
    "for i in range(len(a)):\n",
    "    b.append(a[(len(a)-1)-i])\n",
    "print(b)"
   ]
  },
  {
   "cell_type": "code",
   "execution_count": null,
   "id": "ed1a7613",
   "metadata": {},
   "outputs": [],
   "source": [
    "#ตัวอย่างการเรียงลำดับลิสต์จากท้าย โดยใช้ list comprehensions\n",
    "c = [a[(len(a)-1)-i] for i in range(len(a))]\n",
    "print(c)"
   ]
  },
  {
   "cell_type": "code",
   "execution_count": null,
   "id": "86a6de80",
   "metadata": {},
   "outputs": [],
   "source": [
    "#ตัวอย่างการเรียงลำดับลิสต์จากท้าย โดยใช้เมธอด reverse\n",
    "aa = list('abcdef')\n",
    "aa.reverse()\n",
    "print(aa)"
   ]
  },
  {
   "cell_type": "code",
   "execution_count": null,
   "id": "26fbdf6b",
   "metadata": {},
   "outputs": [],
   "source": [
    "#ตัวอย่างจัดเรียงข้อมูลในลิสต์\n",
    "xx = [35,24,30,17,15,6,8,2]\n",
    "for ii in range(len(xx)-1):\n",
    "    for jj in range(len(xx)-ii-1):\n",
    "        if xx[jj] > xx[jj+1]: #ถ้า xx ด้านซ้ายมากกว่าด้านขวา\n",
    "            xx[jj],xx[jj+1] = xx[jj+1],xx[jj]    #ให้สลับค่า\n",
    "print(xx)"
   ]
  },
  {
   "cell_type": "code",
   "execution_count": null,
   "id": "eeb1e612",
   "metadata": {},
   "outputs": [],
   "source": [
    "xy = [35,24,30,17,15,6,8,2]\n",
    "xy.sort()\n",
    "print(xy)"
   ]
  },
  {
   "cell_type": "code",
   "execution_count": null,
   "id": "f1e5bece",
   "metadata": {},
   "outputs": [],
   "source": [
    "xz = [35,24,30,17,15,6,8,2]\n",
    "xz.sort(reverse=1)\n",
    "print(xz)"
   ]
  }
 ],
 "metadata": {
  "kernelspec": {
   "display_name": "Python 3",
   "language": "python",
   "name": "python3"
  },
  "language_info": {
   "codemirror_mode": {
    "name": "ipython",
    "version": 3
   },
   "file_extension": ".py",
   "mimetype": "text/x-python",
   "name": "python",
   "nbconvert_exporter": "python",
   "pygments_lexer": "ipython3",
   "version": "3.8.8"
  }
 },
 "nbformat": 4,
 "nbformat_minor": 5
}
