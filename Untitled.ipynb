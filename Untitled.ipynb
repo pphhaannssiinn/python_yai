{
 "cells": [
  {
   "cell_type": "code",
   "execution_count": 1,
   "id": "126a8353",
   "metadata": {},
   "outputs": [
    {
     "name": "stdout",
     "output_type": "stream",
     "text": [
      "what is your name?\n",
      "Phansin\n",
      "Hi, Phansin.\n",
      "Welcome to Python.\n"
     ]
    }
   ],
   "source": [
    "#My first python program\n",
    "name=input('what is your name?\\n')\n",
    "print('Hi, %s.' %name)\n",
    "print('Welcome to Python.')"
   ]
  },
  {
   "cell_type": "code",
   "execution_count": null,
   "id": "a56e3331",
   "metadata": {},
   "outputs": [],
   "source": []
  }
 ],
 "metadata": {
  "kernelspec": {
   "display_name": "Python 3",
   "language": "python",
   "name": "python3"
  },
  "language_info": {
   "codemirror_mode": {
    "name": "ipython",
    "version": 3
   },
   "file_extension": ".py",
   "mimetype": "text/x-python",
   "name": "python",
   "nbconvert_exporter": "python",
   "pygments_lexer": "ipython3",
   "version": "3.8.8"
  }
 },
 "nbformat": 4,
 "nbformat_minor": 5
}
